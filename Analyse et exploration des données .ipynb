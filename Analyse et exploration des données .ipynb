{
 "cells": [
  {
   "cell_type": "markdown",
   "id": "2cad483b",
   "metadata": {},
   "source": [
    " ## LEARN"
   ]
  },
  {
   "cell_type": "code",
   "execution_count": 1,
   "id": "0bb5674d",
   "metadata": {},
   "outputs": [],
   "source": [
    "import numpy as np \n",
    "import pandas as pd \n",
    "import matplotlib.pyplot as plt \n",
    "import seaborn as sns "
   ]
  },
  {
   "cell_type": "code",
   "execution_count": 2,
   "id": "c0dd4d82",
   "metadata": {},
   "outputs": [],
   "source": [
    "data = pd.read_csv(\"learn_dataset.csv\")"
   ]
  },
  {
   "cell_type": "code",
   "execution_count": 3,
   "id": "317150fe",
   "metadata": {},
   "outputs": [],
   "source": [
    "df = data.copy()"
   ]
  },
  {
   "cell_type": "code",
   "execution_count": 4,
   "id": "573f4346",
   "metadata": {},
   "outputs": [
    {
     "data": {
      "text/html": [
       "<div>\n",
       "<style scoped>\n",
       "    .dataframe tbody tr th:only-of-type {\n",
       "        vertical-align: middle;\n",
       "    }\n",
       "\n",
       "    .dataframe tbody tr th {\n",
       "        vertical-align: top;\n",
       "    }\n",
       "\n",
       "    .dataframe thead th {\n",
       "        text-align: right;\n",
       "    }\n",
       "</style>\n",
       "<table border=\"1\" class=\"dataframe\">\n",
       "  <thead>\n",
       "    <tr style=\"text-align: right;\">\n",
       "      <th></th>\n",
       "      <th>UID</th>\n",
       "      <th>ACTIVITY_TYPE</th>\n",
       "      <th>AGE_2018</th>\n",
       "      <th>sex</th>\n",
       "      <th>OCCUPATION_42</th>\n",
       "      <th>Is_student</th>\n",
       "      <th>degree</th>\n",
       "      <th>household_type</th>\n",
       "      <th>Insee</th>\n",
       "      <th>target</th>\n",
       "    </tr>\n",
       "  </thead>\n",
       "  <tbody>\n",
       "    <tr>\n",
       "      <th>0</th>\n",
       "      <td>1</td>\n",
       "      <td>type1-1</td>\n",
       "      <td>44</td>\n",
       "      <td>Male</td>\n",
       "      <td>csp_4_5</td>\n",
       "      <td>False</td>\n",
       "      <td>DIP|1|3</td>\n",
       "      <td>ft4-1</td>\n",
       "      <td>01004</td>\n",
       "      <td>33.1791</td>\n",
       "    </tr>\n",
       "    <tr>\n",
       "      <th>1</th>\n",
       "      <td>3</td>\n",
       "      <td>type2-1</td>\n",
       "      <td>52</td>\n",
       "      <td>Male</td>\n",
       "      <td>csp_7_7</td>\n",
       "      <td>False</td>\n",
       "      <td>DIP|1|1</td>\n",
       "      <td>ft4-3</td>\n",
       "      <td>01004</td>\n",
       "      <td>42.3055</td>\n",
       "    </tr>\n",
       "    <tr>\n",
       "      <th>2</th>\n",
       "      <td>5</td>\n",
       "      <td>type2-1</td>\n",
       "      <td>80</td>\n",
       "      <td>Male</td>\n",
       "      <td>csp_7_4</td>\n",
       "      <td>False</td>\n",
       "      <td>DIP|1|7</td>\n",
       "      <td>ft4-4</td>\n",
       "      <td>01004</td>\n",
       "      <td>45.9223</td>\n",
       "    </tr>\n",
       "    <tr>\n",
       "      <th>3</th>\n",
       "      <td>7</td>\n",
       "      <td>type1-1</td>\n",
       "      <td>58</td>\n",
       "      <td>Male</td>\n",
       "      <td>csp_2_2</td>\n",
       "      <td>False</td>\n",
       "      <td>DIP|1|6</td>\n",
       "      <td>ft1-1</td>\n",
       "      <td>01004</td>\n",
       "      <td>39.3028</td>\n",
       "    </tr>\n",
       "    <tr>\n",
       "      <th>4</th>\n",
       "      <td>11</td>\n",
       "      <td>type1-1</td>\n",
       "      <td>42</td>\n",
       "      <td>Male</td>\n",
       "      <td>csp_6_7</td>\n",
       "      <td>False</td>\n",
       "      <td>DIP|1|3</td>\n",
       "      <td>ft1-1</td>\n",
       "      <td>01004</td>\n",
       "      <td>28.6227</td>\n",
       "    </tr>\n",
       "  </tbody>\n",
       "</table>\n",
       "</div>"
      ],
      "text/plain": [
       "   UID ACTIVITY_TYPE  AGE_2018   sex OCCUPATION_42  Is_student   degree  \\\n",
       "0    1       type1-1        44  Male       csp_4_5       False  DIP|1|3   \n",
       "1    3       type2-1        52  Male       csp_7_7       False  DIP|1|1   \n",
       "2    5       type2-1        80  Male       csp_7_4       False  DIP|1|7   \n",
       "3    7       type1-1        58  Male       csp_2_2       False  DIP|1|6   \n",
       "4   11       type1-1        42  Male       csp_6_7       False  DIP|1|3   \n",
       "\n",
       "  household_type  Insee   target  \n",
       "0          ft4-1  01004  33.1791  \n",
       "1          ft4-3  01004  42.3055  \n",
       "2          ft4-4  01004  45.9223  \n",
       "3          ft1-1  01004  39.3028  \n",
       "4          ft1-1  01004  28.6227  "
      ]
     },
     "execution_count": 4,
     "metadata": {},
     "output_type": "execute_result"
    }
   ],
   "source": [
    "df.head()"
   ]
  },
  {
   "cell_type": "code",
   "execution_count": 5,
   "id": "56c49f1d",
   "metadata": {},
   "outputs": [
    {
     "data": {
      "text/plain": [
       "(50000, 10)"
      ]
     },
     "execution_count": 5,
     "metadata": {},
     "output_type": "execute_result"
    }
   ],
   "source": [
    "df.shape "
   ]
  },
  {
   "cell_type": "code",
   "execution_count": 6,
   "id": "692960ef",
   "metadata": {},
   "outputs": [
    {
     "data": {
      "text/plain": [
       "object     6\n",
       "int64      2\n",
       "bool       1\n",
       "float64    1\n",
       "dtype: int64"
      ]
     },
     "execution_count": 6,
     "metadata": {},
     "output_type": "execute_result"
    }
   ],
   "source": [
    "df.dtypes.value_counts()"
   ]
  },
  {
   "cell_type": "code",
   "execution_count": 7,
   "id": "91a96496",
   "metadata": {},
   "outputs": [
    {
     "data": {
      "text/plain": [
       "UID               0.0\n",
       "ACTIVITY_TYPE     0.0\n",
       "AGE_2018          0.0\n",
       "sex               0.0\n",
       "OCCUPATION_42     0.0\n",
       "Is_student        0.0\n",
       "degree            0.0\n",
       "household_type    0.0\n",
       "Insee             0.0\n",
       "target            0.0\n",
       "dtype: float64"
      ]
     },
     "execution_count": 7,
     "metadata": {},
     "output_type": "execute_result"
    }
   ],
   "source": [
    "(df.isna().sum()/df.shape[0]).sort_values(ascending=True)"
   ]
  },
  {
   "cell_type": "code",
   "execution_count": 8,
   "id": "4a46331c",
   "metadata": {},
   "outputs": [
    {
     "data": {
      "image/png": "[encoded data removed]",
      "text/plain": [
       "<Figure size 640x480 with 1 Axes>"
      ]
     },
     "metadata": {},
     "output_type": "display_data"
    }
   ],
   "source": [
    "for col in df.select_dtypes('float'):\n",
    "    plt.figure()\n",
    "    sns.histplot(df[col], kde=True)\n",
    "  "
   ]
  },
  {
   "cell_type": "code",
   "execution_count": 9,
   "id": "095b08fd",
   "metadata": {},
   "outputs": [
    {
     "data": {
      "text/plain": [
       "<AxesSubplot:xlabel='AGE_2018', ylabel='Count'>"
      ]
     },
     "execution_count": 9,
     "metadata": {},
     "output_type": "execute_result"
    },
    {
     "data": {
      "image/png": "[encoded data removed]",
      "text/plain": [
       "<Figure size 640x480 with 1 Axes>"
      ]
     },
     "metadata": {},
     "output_type": "display_data"
    }
   ],
   "source": [
    "plt.figure()\n",
    "sns.histplot(df['AGE_2018'], kde=True)"
   ]
  },
  {
   "cell_type": "code",
   "execution_count": 10,
   "id": "8dea8a02",
   "metadata": {},
   "outputs": [
    {
     "name": "stdout",
     "output_type": "stream",
     "text": [
      "ACTIVITY_TYPE------------------------------------- ['type1-1' 'type2-1' 'type2-4' 'type2-2' 'type2-5' 'type1-2']\n",
      "sex----------------------------------------------- ['Male' 'Female']\n",
      "OCCUPATION_42------------------------------------- ['csp_4_5' 'csp_7_7' 'csp_7_4' 'csp_2_2' 'csp_6_7' 'csp_1_1' 'csp_8_6'\n",
      " 'csp_8_4' 'csp_8_5' 'csp_7_5' 'csp_5_2' 'csp_7_8' 'csp_5_4' 'csp_6_3'\n",
      " 'csp_6_2' 'csp_8_1' 'csp_4_3' 'csp_3_8' 'csp_5_5' 'csp_7_1' 'csp_6_9'\n",
      " 'csp_4_6' 'csp_4_7' 'csp_4_8' 'csp_6_4' 'csp_3_7' 'csp_3_5' 'csp_5_3'\n",
      " 'csp_3_3' 'csp_7_2' 'csp_2_3' 'csp_2_1' 'csp_5_6' 'csp_6_8' 'csp_4_2'\n",
      " 'csp_3_4' 'csp_1_2' 'csp_1_3' 'csp_3_1' 'csp_6_5' 'csp_4_4']\n",
      "degree-------------------------------------------- ['DIP|1|3' 'DIP|1|1' 'DIP|1|7' 'DIP|1|6' 'DIP|1|5' 'DIP|1|4' 'DIP|2'\n",
      " 'DIP|3' 'DIP|1|2' 'DIP|1|8' 'DIP|1' 'DIP|1|9']\n",
      "household_type------------------------------------ ['ft4-1' 'ft4-3' 'ft4-4' 'ft1-1' 'ft4-2' 'ft3-2' 'ft1-2' 'ft2-0' 'ft3-1']\n",
      "Insee--------------------------------------------- ['01004' '01013' '01014' ... '95675' '95678' '95680']\n"
     ]
    }
   ],
   "source": [
    "for col in df.select_dtypes('object'):\n",
    "    print(f'{col:-<50} {df[col].unique()}')"
   ]
  },
  {
   "cell_type": "code",
   "execution_count": 11,
   "id": "da5981c2",
   "metadata": {},
   "outputs": [
    {
     "data": {
      "text/plain": [
       "Female    0.523\n",
       "Male      0.477\n",
       "Name: sex, dtype: float64"
      ]
     },
     "execution_count": 11,
     "metadata": {},
     "output_type": "execute_result"
    }
   ],
   "source": [
    "df['sex'].value_counts(normalize=True)"
   ]
  },
  {
   "cell_type": "code",
   "execution_count": 12,
   "id": "970ed474",
   "metadata": {},
   "outputs": [
    {
     "name": "stdout",
     "output_type": "stream",
     "text": [
      "type1-1    0.48720\n",
      "type2-1    0.26950\n",
      "type2-2    0.09530\n",
      "type1-2    0.07572\n",
      "type2-5    0.04308\n",
      "type2-4    0.02920\n",
      "Name: ACTIVITY_TYPE, dtype: float64\n",
      "Female    0.523\n",
      "Male      0.477\n",
      "Name: sex, dtype: float64\n",
      "csp_7_7    0.08726\n",
      "csp_8_4    0.08680\n",
      "csp_7_8    0.06578\n",
      "csp_8_5    0.06532\n",
      "csp_7_5    0.05358\n",
      "csp_4_6    0.04812\n",
      "csp_5_2    0.04760\n",
      "csp_5_6    0.03832\n",
      "csp_5_4    0.03388\n",
      "csp_6_3    0.02920\n",
      "csp_4_3    0.02872\n",
      "csp_5_5    0.02704\n",
      "csp_3_8    0.02566\n",
      "csp_3_7    0.02564\n",
      "csp_6_7    0.02500\n",
      "csp_4_7    0.02418\n",
      "csp_7_4    0.02400\n",
      "csp_7_2    0.02236\n",
      "csp_6_2    0.01966\n",
      "csp_8_6    0.01914\n",
      "csp_4_2    0.01852\n",
      "csp_2_1    0.01672\n",
      "csp_6_8    0.01650\n",
      "csp_3_4    0.01610\n",
      "csp_2_2    0.01460\n",
      "csp_6_4    0.01360\n",
      "csp_7_1    0.01284\n",
      "csp_5_3    0.01184\n",
      "csp_4_8    0.01106\n",
      "csp_3_1    0.01088\n",
      "csp_3_3    0.01030\n",
      "csp_4_5    0.00918\n",
      "csp_6_5    0.00886\n",
      "csp_8_1    0.00860\n",
      "csp_3_5    0.00668\n",
      "csp_1_1    0.00538\n",
      "csp_6_9    0.00524\n",
      "csp_2_3    0.00334\n",
      "csp_1_3    0.00168\n",
      "csp_4_4    0.00044\n",
      "csp_1_2    0.00038\n",
      "Name: OCCUPATION_42, dtype: float64\n",
      "DIP|1|3    0.22526\n",
      "DIP|1|4    0.10862\n",
      "DIP|1|6    0.10306\n",
      "DIP|1|8    0.08986\n",
      "DIP|1|7    0.08786\n",
      "DIP|1|2    0.08640\n",
      "DIP|1|5    0.07232\n",
      "DIP|1|1    0.07030\n",
      "DIP|3      0.07014\n",
      "DIP|2      0.05416\n",
      "DIP|1      0.02354\n",
      "DIP|1|9    0.00848\n",
      "Name: degree, dtype: float64\n",
      "ft4-1    0.33430\n",
      "ft4-4    0.19200\n",
      "ft1-2    0.11316\n",
      "ft4-2    0.09254\n",
      "ft1-1    0.08554\n",
      "ft3-2    0.08162\n",
      "ft4-3    0.05838\n",
      "ft2-0    0.02506\n",
      "ft3-1    0.01740\n",
      "Name: household_type, dtype: float64\n",
      "31555    0.00692\n",
      "06088    0.00606\n",
      "34172    0.00508\n",
      "44109    0.00430\n",
      "67482    0.00414\n",
      "          ...   \n",
      "47109    0.00002\n",
      "47104    0.00002\n",
      "47101    0.00002\n",
      "47094    0.00002\n",
      "50108    0.00002\n",
      "Name: Insee, Length: 13757, dtype: float64\n"
     ]
    }
   ],
   "source": [
    "for col in df.select_dtypes('object'):\n",
    "    print(df[col].value_counts(normalize=True))"
   ]
  },
  {
   "cell_type": "code",
   "execution_count": 13,
   "id": "8b2e4a2b",
   "metadata": {},
   "outputs": [
    {
     "data": {
      "text/plain": [
       "Is_student   -0.512781\n",
       "UID          -0.049490\n",
       "target        0.275372\n",
       "AGE_2018      1.000000\n",
       "Name: AGE_2018, dtype: float64"
      ]
     },
     "execution_count": 13,
     "metadata": {},
     "output_type": "execute_result"
    }
   ],
   "source": [
    "df.corr()[\"AGE_2018\"].sort_values()"
   ]
  },
  {
   "cell_type": "markdown",
   "id": "2a21706f",
   "metadata": {},
   "source": [
    "## LEARN JOB"
   ]
  },
  {
   "cell_type": "code",
   "execution_count": 30,
   "id": "ddeb581e",
   "metadata": {},
   "outputs": [],
   "source": [
    "data = pd.read_csv(\"learn_dataset_job.csv\")"
   ]
  },
  {
   "cell_type": "code",
   "execution_count": 31,
   "id": "8391f92f",
   "metadata": {},
   "outputs": [
    {
     "data": {
      "text/html": [
       "<div>\n",
       "<style scoped>\n",
       "    .dataframe tbody tr th:only-of-type {\n",
       "        vertical-align: middle;\n",
       "    }\n",
       "\n",
       "    .dataframe tbody tr th {\n",
       "        vertical-align: top;\n",
       "    }\n",
       "\n",
       "    .dataframe thead th {\n",
       "        text-align: right;\n",
       "    }\n",
       "</style>\n",
       "<table border=\"1\" class=\"dataframe\">\n",
       "  <thead>\n",
       "    <tr style=\"text-align: right;\">\n",
       "      <th></th>\n",
       "      <th>UID</th>\n",
       "      <th>JOB_CATEGORY</th>\n",
       "      <th>JOB_DEP</th>\n",
       "      <th>Working_hours</th>\n",
       "      <th>eco_sect</th>\n",
       "      <th>Terms_of_emp</th>\n",
       "      <th>Employer_type</th>\n",
       "      <th>Emolument</th>\n",
       "      <th>JOB_CONDITION</th>\n",
       "      <th>employee_count</th>\n",
       "      <th>Work_description</th>\n",
       "    </tr>\n",
       "  </thead>\n",
       "  <tbody>\n",
       "    <tr>\n",
       "      <th>0</th>\n",
       "      <td>1</td>\n",
       "      <td>O</td>\n",
       "      <td>71</td>\n",
       "      <td>1838.0</td>\n",
       "      <td>HZ</td>\n",
       "      <td>CDI</td>\n",
       "      <td>ct_9</td>\n",
       "      <td>20794</td>\n",
       "      <td>C</td>\n",
       "      <td>tr_5</td>\n",
       "      <td>451a</td>\n",
       "    </tr>\n",
       "    <tr>\n",
       "      <th>1</th>\n",
       "      <td>11</td>\n",
       "      <td>O</td>\n",
       "      <td>01</td>\n",
       "      <td>378.0</td>\n",
       "      <td>NZ</td>\n",
       "      <td>TTP</td>\n",
       "      <td>ct_9</td>\n",
       "      <td>14514</td>\n",
       "      <td>C</td>\n",
       "      <td>tr_1</td>\n",
       "      <td>674a</td>\n",
       "    </tr>\n",
       "    <tr>\n",
       "      <th>2</th>\n",
       "      <td>40</td>\n",
       "      <td>O</td>\n",
       "      <td>69</td>\n",
       "      <td>1958.0</td>\n",
       "      <td>QA</td>\n",
       "      <td>CDI</td>\n",
       "      <td>ct_9</td>\n",
       "      <td>21847</td>\n",
       "      <td>C</td>\n",
       "      <td>tr_6</td>\n",
       "      <td>526a</td>\n",
       "    </tr>\n",
       "    <tr>\n",
       "      <th>3</th>\n",
       "      <td>48</td>\n",
       "      <td>O</td>\n",
       "      <td>69</td>\n",
       "      <td>1818.0</td>\n",
       "      <td>CH</td>\n",
       "      <td>CDI</td>\n",
       "      <td>ct_9</td>\n",
       "      <td>22790</td>\n",
       "      <td>P</td>\n",
       "      <td>tr_2</td>\n",
       "      <td>542a</td>\n",
       "    </tr>\n",
       "    <tr>\n",
       "      <th>4</th>\n",
       "      <td>52</td>\n",
       "      <td>O</td>\n",
       "      <td>38</td>\n",
       "      <td>1843.0</td>\n",
       "      <td>CB</td>\n",
       "      <td>CDI</td>\n",
       "      <td>ct_9</td>\n",
       "      <td>27498</td>\n",
       "      <td>C</td>\n",
       "      <td>tr_6</td>\n",
       "      <td>627a</td>\n",
       "    </tr>\n",
       "  </tbody>\n",
       "</table>\n",
       "</div>"
      ],
      "text/plain": [
       "   UID JOB_CATEGORY JOB_DEP  Working_hours eco_sect Terms_of_emp  \\\n",
       "0    1            O      71         1838.0       HZ          CDI   \n",
       "1   11            O      01          378.0       NZ          TTP   \n",
       "2   40            O      69         1958.0       QA          CDI   \n",
       "3   48            O      69         1818.0       CH          CDI   \n",
       "4   52            O      38         1843.0       CB          CDI   \n",
       "\n",
       "  Employer_type  Emolument JOB_CONDITION employee_count Work_description  \n",
       "0          ct_9      20794             C           tr_5             451a  \n",
       "1          ct_9      14514             C           tr_1             674a  \n",
       "2          ct_9      21847             C           tr_6             526a  \n",
       "3          ct_9      22790             P           tr_2             542a  \n",
       "4          ct_9      27498             C           tr_6             627a  "
      ]
     },
     "execution_count": 31,
     "metadata": {},
     "output_type": "execute_result"
    }
   ],
   "source": [
    "df = data.copy()\n",
    "df.head()"
   ]
  },
  {
   "cell_type": "code",
   "execution_count": 35,
   "id": "d9661106",
   "metadata": {},
   "outputs": [
    {
     "data": {
      "text/plain": [
       "(19612, 11)"
      ]
     },
     "execution_count": 35,
     "metadata": {},
     "output_type": "execute_result"
    }
   ],
   "source": [
    "df.shape"
   ]
  },
  {
   "cell_type": "code",
   "execution_count": 36,
   "id": "4fa4a58b",
   "metadata": {},
   "outputs": [
    {
     "data": {
      "text/plain": [
       "UID                   int64\n",
       "JOB_CATEGORY         object\n",
       "JOB_DEP              object\n",
       "Working_hours       float64\n",
       "eco_sect             object\n",
       "Terms_of_emp         object\n",
       "Employer_type        object\n",
       "Emolument             int64\n",
       "JOB_CONDITION        object\n",
       "employee_count       object\n",
       "Work_description     object\n",
       "dtype: object"
      ]
     },
     "execution_count": 36,
     "metadata": {},
     "output_type": "execute_result"
    }
   ],
   "source": [
    "df.dtypes"
   ]
  },
  {
   "cell_type": "code",
   "execution_count": 57,
   "id": "93ecfd4e",
   "metadata": {},
   "outputs": [
    {
     "data": {
      "text/plain": [
       "UID                  0\n",
       "JOB_CATEGORY         0\n",
       "JOB_DEP              0\n",
       "Working_hours       65\n",
       "eco_sect             0\n",
       "Terms_of_emp         0\n",
       "Employer_type        0\n",
       "Emolument            0\n",
       "JOB_CONDITION        0\n",
       "employee_count       0\n",
       "Work_description     0\n",
       "dtype: int64"
      ]
     },
     "execution_count": 57,
     "metadata": {},
     "output_type": "execute_result"
    }
   ],
   "source": [
    "df.isna().sum()"
   ]
  },
  {
   "cell_type": "code",
   "execution_count": 40,
   "id": "c6cae45a",
   "metadata": {},
   "outputs": [
    {
     "data": {
      "text/plain": [
       "UID                 0.000000\n",
       "JOB_CATEGORY        0.000000\n",
       "JOB_DEP             0.000000\n",
       "eco_sect            0.000000\n",
       "Terms_of_emp        0.000000\n",
       "Employer_type       0.000000\n",
       "Emolument           0.000000\n",
       "JOB_CONDITION       0.000000\n",
       "employee_count      0.000000\n",
       "Work_description    0.000000\n",
       "Working_hours       0.003314\n",
       "dtype: float64"
      ]
     },
     "execution_count": 40,
     "metadata": {},
     "output_type": "execute_result"
    }
   ],
   "source": [
    "(df.isna().sum() / df.shape[0]).sort_values(ascending=True)"
   ]
  },
  {
   "cell_type": "code",
   "execution_count": 54,
   "id": "2e45f2e9",
   "metadata": {},
   "outputs": [
    {
     "name": "stdout",
     "output_type": "stream",
     "text": [
      "JOB_CATEGORY--------------------------------------\n",
      "O    0.964868\n",
      "X    0.020141\n",
      "A    0.014991\n",
      "Name: JOB_CATEGORY, dtype: float64\n",
      "JOB_DEP-------------------------------------------\n",
      "75    0.074342\n",
      "92    0.047471\n",
      "59    0.045584\n",
      "69    0.035692\n",
      "13    0.030492\n",
      "        ...   \n",
      "55    0.001581\n",
      "52    0.001377\n",
      "05    0.001224\n",
      "23    0.000969\n",
      "48    0.000510\n",
      "Name: JOB_DEP, Length: 96, dtype: float64\n",
      "eco_sect------------------------------------------\n",
      "GZ    0.144503\n",
      "QB    0.102182\n",
      "NZ    0.073781\n",
      "QA    0.071538\n",
      "HZ    0.069243\n",
      "FZ    0.062054\n",
      "PZ    0.056292\n",
      "MA    0.044004\n",
      "KZ    0.040638\n",
      "OZ    0.038803\n",
      "IZ    0.035285\n",
      "CA    0.025444\n",
      "SZ    0.022129\n",
      "JC    0.020141\n",
      "CH    0.020090\n",
      "CL    0.018050\n",
      "TZ    0.013410\n",
      "RZ    0.012900\n",
      "CM    0.012594\n",
      "CG    0.012135\n",
      "JA    0.011269\n",
      "MC    0.010504\n",
      "LZ    0.010096\n",
      "CK    0.008566\n",
      "DZ    0.007648\n",
      "CE    0.007444\n",
      "CC    0.007393\n",
      "MB    0.007342\n",
      "EZ    0.007087\n",
      "CI    0.006170\n",
      "CJ    0.005354\n",
      "CF    0.004538\n",
      "JB    0.004538\n",
      "CB    0.004487\n",
      "AZ    0.001071\n",
      "BZ    0.000816\n",
      "CD    0.000459\n",
      "Name: eco_sect, dtype: float64\n",
      "Terms_of_emp--------------------------------------\n",
      "CDI    0.861768\n",
      "AUT    0.059963\n",
      "CDD    0.037069\n",
      "TTP    0.016470\n",
      "APP    0.014685\n",
      "TOA    0.010045\n",
      "Name: Terms_of_emp, dtype: float64\n",
      "Employer_type-------------------------------------\n",
      "ct_9    0.659902\n",
      "ct_8    0.156843\n",
      "ct_6    0.063380\n",
      "ct_7    0.028197\n",
      "ct_2    0.026208\n",
      "ct_1    0.024934\n",
      "ct_3    0.022486\n",
      "ct_5    0.012492\n",
      "ct_4    0.005558\n",
      "Name: Employer_type, dtype: float64\n",
      "JOB_CONDITION-------------------------------------\n",
      "C    0.782633\n",
      "P    0.187487\n",
      "D    0.011167\n",
      "F    0.010147\n",
      "K    0.005048\n",
      "Y    0.003518\n",
      "Name: JOB_CONDITION, dtype: float64\n",
      "employee_count------------------------------------\n",
      "tr_1    0.226851\n",
      "tr_6    0.222364\n",
      "tr_3    0.162554\n",
      "tr_5    0.134204\n",
      "tr_4    0.126759\n",
      "tr_2    0.111207\n",
      "tr_0    0.016062\n",
      "Name: employee_count, dtype: float64\n",
      "Work_description----------------------------------\n",
      "526a    0.027483\n",
      "525d    0.025240\n",
      "542a    0.017234\n",
      "684a    0.017030\n",
      "534a    0.016011\n",
      "          ...   \n",
      "656c    0.000051\n",
      "623d    0.000051\n",
      "451b    0.000051\n",
      "389c    0.000051\n",
      "627e    0.000051\n",
      "Name: Work_description, Length: 403, dtype: float64\n"
     ]
    }
   ],
   "source": [
    "for col in df.select_dtypes('object'):\n",
    "    print(f'{col:-<50}\\n{df[col].value_counts(normalize=True)}')"
   ]
  },
  {
   "cell_type": "code",
   "execution_count": 64,
   "id": "68e45150",
   "metadata": {},
   "outputs": [
    {
     "data": {
      "image/png": "[encoded data removed]",
      "text/plain": [
       "<Figure size 500x500 with 1 Axes>"
      ]
     },
     "metadata": {},
     "output_type": "display_data"
    }
   ],
   "source": [
    "for col in df.select_dtypes('float'):\n",
    "    plt.figure(figsize=(5,5))\n",
    "    sns.histplot(df[col], kde=True)\n",
    "    "
   ]
  },
  {
   "cell_type": "markdown",
   "id": "b7ae4830",
   "metadata": {},
   "source": [
    "## LEARN SPORT"
   ]
  },
  {
   "cell_type": "code",
   "execution_count": 83,
   "id": "51b86993",
   "metadata": {},
   "outputs": [],
   "source": [
    "data = pd.read_csv('learn_dataset_sport.csv')"
   ]
  },
  {
   "cell_type": "code",
   "execution_count": 84,
   "id": "61c62421",
   "metadata": {},
   "outputs": [],
   "source": [
    "df = data.copy()"
   ]
  },
  {
   "cell_type": "code",
   "execution_count": 85,
   "id": "3e7e187c",
   "metadata": {},
   "outputs": [
    {
     "data": {
      "text/plain": [
       "(7711, 2)"
      ]
     },
     "execution_count": 85,
     "metadata": {},
     "output_type": "execute_result"
    }
   ],
   "source": [
    "df.shape"
   ]
  },
  {
   "cell_type": "code",
   "execution_count": 86,
   "id": "e3148ee6",
   "metadata": {},
   "outputs": [
    {
     "data": {
      "text/plain": [
       "UID        int64\n",
       "Sports    object\n",
       "dtype: object"
      ]
     },
     "execution_count": 86,
     "metadata": {},
     "output_type": "execute_result"
    }
   ],
   "source": [
    "df.dtypes"
   ]
  },
  {
   "cell_type": "code",
   "execution_count": 87,
   "id": "6d1bde74",
   "metadata": {},
   "outputs": [
    {
     "data": {
      "text/plain": [
       "UID       0.0\n",
       "Sports    0.0\n",
       "dtype: float64"
      ]
     },
     "execution_count": 87,
     "metadata": {},
     "output_type": "execute_result"
    }
   ],
   "source": [
    "(df.isna().sum() / df.shape[0]).sort_values(ascending=True)"
   ]
  },
  {
   "cell_type": "code",
   "execution_count": 88,
   "id": "a74246c2",
   "metadata": {},
   "outputs": [
    {
     "data": {
      "text/html": [
       "<div>\n",
       "<style scoped>\n",
       "    .dataframe tbody tr th:only-of-type {\n",
       "        vertical-align: middle;\n",
       "    }\n",
       "\n",
       "    .dataframe tbody tr th {\n",
       "        vertical-align: top;\n",
       "    }\n",
       "\n",
       "    .dataframe thead th {\n",
       "        text-align: right;\n",
       "    }\n",
       "</style>\n",
       "<table border=\"1\" class=\"dataframe\">\n",
       "  <thead>\n",
       "    <tr style=\"text-align: right;\">\n",
       "      <th></th>\n",
       "      <th>UID</th>\n",
       "      <th>Sports</th>\n",
       "    </tr>\n",
       "  </thead>\n",
       "  <tbody>\n",
       "    <tr>\n",
       "      <th>0</th>\n",
       "      <td>54</td>\n",
       "      <td>club.117</td>\n",
       "    </tr>\n",
       "    <tr>\n",
       "      <th>1</th>\n",
       "      <td>66</td>\n",
       "      <td>club.245</td>\n",
       "    </tr>\n",
       "    <tr>\n",
       "      <th>2</th>\n",
       "      <td>102</td>\n",
       "      <td>club.219</td>\n",
       "    </tr>\n",
       "    <tr>\n",
       "      <th>3</th>\n",
       "      <td>103</td>\n",
       "      <td>club.111</td>\n",
       "    </tr>\n",
       "    <tr>\n",
       "      <th>4</th>\n",
       "      <td>111</td>\n",
       "      <td>club.403</td>\n",
       "    </tr>\n",
       "  </tbody>\n",
       "</table>\n",
       "</div>"
      ],
      "text/plain": [
       "   UID    Sports\n",
       "0   54  club.117\n",
       "1   66  club.245\n",
       "2  102  club.219\n",
       "3  103  club.111\n",
       "4  111  club.403"
      ]
     },
     "execution_count": 88,
     "metadata": {},
     "output_type": "execute_result"
    }
   ],
   "source": [
    "df.head()"
   ]
  },
  {
   "cell_type": "code",
   "execution_count": 91,
   "id": "7f832eb8",
   "metadata": {},
   "outputs": [
    {
     "data": {
      "text/plain": [
       "club.264    0.000130\n",
       "club.234    0.000130\n",
       "club.226    0.000130\n",
       "club.256    0.000259\n",
       "club.215    0.000259\n",
       "              ...   \n",
       "club.109    0.042407\n",
       "club.132    0.043055\n",
       "club.402    0.056672\n",
       "club.123    0.064194\n",
       "club.111    0.128518\n",
       "Name: Sports, Length: 91, dtype: float64"
      ]
     },
     "execution_count": 91,
     "metadata": {},
     "output_type": "execute_result"
    }
   ],
   "source": [
    "df[\"Sports\"].value_counts(normalize=True).sort_values(ascending=True)"
   ]
  },
  {
   "cell_type": "markdown",
   "id": "9a4455c2",
   "metadata": {},
   "source": [
    "## LEARN EMP-CONTRACT"
   ]
  },
  {
   "cell_type": "code",
   "execution_count": 92,
   "id": "7067ac2e",
   "metadata": {},
   "outputs": [],
   "source": [
    "data = pd.read_csv(\"learn_dataset_emp_contract.csv\")"
   ]
  },
  {
   "cell_type": "code",
   "execution_count": 93,
   "id": "777ba986",
   "metadata": {},
   "outputs": [],
   "source": [
    "df = data.copy()"
   ]
  },
  {
   "cell_type": "code",
   "execution_count": 94,
   "id": "6adb2ebf",
   "metadata": {},
   "outputs": [
    {
     "data": {
      "text/plain": [
       "(24360, 2)"
      ]
     },
     "execution_count": 94,
     "metadata": {},
     "output_type": "execute_result"
    }
   ],
   "source": [
    "df.shape"
   ]
  },
  {
   "cell_type": "code",
   "execution_count": 82,
   "id": "43716e03",
   "metadata": {},
   "outputs": [
    {
     "data": {
      "text/plain": [
       "UID              int64\n",
       "emp_contract    object\n",
       "dtype: object"
      ]
     },
     "execution_count": 82,
     "metadata": {},
     "output_type": "execute_result"
    }
   ],
   "source": [
    "df.dtypes"
   ]
  },
  {
   "cell_type": "code",
   "execution_count": 95,
   "id": "c1b63fb8",
   "metadata": {},
   "outputs": [
    {
     "data": {
      "text/plain": [
       "contrat_2_3    0.001437\n",
       "contrat_1_4    0.003325\n",
       "contrat_1_3    0.007553\n",
       "contrat_1_2    0.017693\n",
       "contrat_1_1    0.018883\n",
       "contrat_2_2    0.047947\n",
       "contrat_2_1    0.071880\n",
       "contrat_1_5    0.085016\n",
       "contrat_1_6    0.746264\n",
       "Name: emp_contract, dtype: float64"
      ]
     },
     "execution_count": 95,
     "metadata": {},
     "output_type": "execute_result"
    }
   ],
   "source": [
    "df[\"emp_contract\"].value_counts(normalize=True).sort_values(ascending=True)"
   ]
  },
  {
   "cell_type": "markdown",
   "id": "722adc70",
   "metadata": {},
   "source": [
    "## LEARN {JOB + SPORT + EMP-CONTRACT }"
   ]
  },
  {
   "cell_type": "code",
   "execution_count": 114,
   "id": "3c6f2104",
   "metadata": {},
   "outputs": [],
   "source": [
    "files = [\"learn_dataset.csv\", \"learn_dataset_emp_contract.csv\", \"learn_dataset_job.csv\", \"learn_dataset_sport.csv\"]\n",
    "data = []\n",
    "for file in files: \n",
    "    data.append(pd.read_csv(file, index_col=\"UID\"))"
   ]
  },
  {
   "cell_type": "code",
   "execution_count": 119,
   "id": "ee526671",
   "metadata": {},
   "outputs": [],
   "source": [
    "df = pd.concat(data, ignore_index=False, axis=1)"
   ]
  },
  {
   "cell_type": "code",
   "execution_count": 121,
   "id": "4cbef4a1",
   "metadata": {},
   "outputs": [
    {
     "data": {
      "text/plain": [
       "(50000, 21)"
      ]
     },
     "execution_count": 121,
     "metadata": {},
     "output_type": "execute_result"
    }
   ],
   "source": [
    "df.shape"
   ]
  },
  {
   "cell_type": "code",
   "execution_count": 122,
   "id": "3ae94bc9",
   "metadata": {},
   "outputs": [
    {
     "data": {
      "text/html": [
       "<div>\n",
       "<style scoped>\n",
       "    .dataframe tbody tr th:only-of-type {\n",
       "        vertical-align: middle;\n",
       "    }\n",
       "\n",
       "    .dataframe tbody tr th {\n",
       "        vertical-align: top;\n",
       "    }\n",
       "\n",
       "    .dataframe thead th {\n",
       "        text-align: right;\n",
       "    }\n",
       "</style>\n",
       "<table border=\"1\" class=\"dataframe\">\n",
       "  <thead>\n",
       "    <tr style=\"text-align: right;\">\n",
       "      <th></th>\n",
       "      <th>ACTIVITY_TYPE</th>\n",
       "      <th>AGE_2018</th>\n",
       "      <th>sex</th>\n",
       "      <th>OCCUPATION_42</th>\n",
       "      <th>Is_student</th>\n",
       "      <th>degree</th>\n",
       "      <th>household_type</th>\n",
       "      <th>Insee</th>\n",
       "      <th>target</th>\n",
       "      <th>emp_contract</th>\n",
       "      <th>...</th>\n",
       "      <th>JOB_DEP</th>\n",
       "      <th>Working_hours</th>\n",
       "      <th>eco_sect</th>\n",
       "      <th>Terms_of_emp</th>\n",
       "      <th>Employer_type</th>\n",
       "      <th>Emolument</th>\n",
       "      <th>JOB_CONDITION</th>\n",
       "      <th>employee_count</th>\n",
       "      <th>Work_description</th>\n",
       "      <th>Sports</th>\n",
       "    </tr>\n",
       "    <tr>\n",
       "      <th>UID</th>\n",
       "      <th></th>\n",
       "      <th></th>\n",
       "      <th></th>\n",
       "      <th></th>\n",
       "      <th></th>\n",
       "      <th></th>\n",
       "      <th></th>\n",
       "      <th></th>\n",
       "      <th></th>\n",
       "      <th></th>\n",
       "      <th></th>\n",
       "      <th></th>\n",
       "      <th></th>\n",
       "      <th></th>\n",
       "      <th></th>\n",
       "      <th></th>\n",
       "      <th></th>\n",
       "      <th></th>\n",
       "      <th></th>\n",
       "      <th></th>\n",
       "      <th></th>\n",
       "    </tr>\n",
       "  </thead>\n",
       "  <tbody>\n",
       "    <tr>\n",
       "      <th>1</th>\n",
       "      <td>type1-1</td>\n",
       "      <td>44</td>\n",
       "      <td>Male</td>\n",
       "      <td>csp_4_5</td>\n",
       "      <td>False</td>\n",
       "      <td>DIP|1|3</td>\n",
       "      <td>ft4-1</td>\n",
       "      <td>01004</td>\n",
       "      <td>33.1791</td>\n",
       "      <td>contrat_1_6</td>\n",
       "      <td>...</td>\n",
       "      <td>71</td>\n",
       "      <td>1838.0</td>\n",
       "      <td>HZ</td>\n",
       "      <td>CDI</td>\n",
       "      <td>ct_9</td>\n",
       "      <td>20794.0</td>\n",
       "      <td>C</td>\n",
       "      <td>tr_5</td>\n",
       "      <td>451a</td>\n",
       "      <td>NaN</td>\n",
       "    </tr>\n",
       "    <tr>\n",
       "      <th>3</th>\n",
       "      <td>type2-1</td>\n",
       "      <td>52</td>\n",
       "      <td>Male</td>\n",
       "      <td>csp_7_7</td>\n",
       "      <td>False</td>\n",
       "      <td>DIP|1|1</td>\n",
       "      <td>ft4-3</td>\n",
       "      <td>01004</td>\n",
       "      <td>42.3055</td>\n",
       "      <td>NaN</td>\n",
       "      <td>...</td>\n",
       "      <td>NaN</td>\n",
       "      <td>NaN</td>\n",
       "      <td>NaN</td>\n",
       "      <td>NaN</td>\n",
       "      <td>NaN</td>\n",
       "      <td>NaN</td>\n",
       "      <td>NaN</td>\n",
       "      <td>NaN</td>\n",
       "      <td>NaN</td>\n",
       "      <td>NaN</td>\n",
       "    </tr>\n",
       "    <tr>\n",
       "      <th>5</th>\n",
       "      <td>type2-1</td>\n",
       "      <td>80</td>\n",
       "      <td>Male</td>\n",
       "      <td>csp_7_4</td>\n",
       "      <td>False</td>\n",
       "      <td>DIP|1|7</td>\n",
       "      <td>ft4-4</td>\n",
       "      <td>01004</td>\n",
       "      <td>45.9223</td>\n",
       "      <td>NaN</td>\n",
       "      <td>...</td>\n",
       "      <td>NaN</td>\n",
       "      <td>NaN</td>\n",
       "      <td>NaN</td>\n",
       "      <td>NaN</td>\n",
       "      <td>NaN</td>\n",
       "      <td>NaN</td>\n",
       "      <td>NaN</td>\n",
       "      <td>NaN</td>\n",
       "      <td>NaN</td>\n",
       "      <td>NaN</td>\n",
       "    </tr>\n",
       "    <tr>\n",
       "      <th>7</th>\n",
       "      <td>type1-1</td>\n",
       "      <td>58</td>\n",
       "      <td>Male</td>\n",
       "      <td>csp_2_2</td>\n",
       "      <td>False</td>\n",
       "      <td>DIP|1|6</td>\n",
       "      <td>ft1-1</td>\n",
       "      <td>01004</td>\n",
       "      <td>39.3028</td>\n",
       "      <td>contrat_2_2</td>\n",
       "      <td>...</td>\n",
       "      <td>NaN</td>\n",
       "      <td>NaN</td>\n",
       "      <td>NaN</td>\n",
       "      <td>NaN</td>\n",
       "      <td>NaN</td>\n",
       "      <td>NaN</td>\n",
       "      <td>NaN</td>\n",
       "      <td>NaN</td>\n",
       "      <td>NaN</td>\n",
       "      <td>NaN</td>\n",
       "    </tr>\n",
       "    <tr>\n",
       "      <th>11</th>\n",
       "      <td>type1-1</td>\n",
       "      <td>42</td>\n",
       "      <td>Male</td>\n",
       "      <td>csp_6_7</td>\n",
       "      <td>False</td>\n",
       "      <td>DIP|1|3</td>\n",
       "      <td>ft1-1</td>\n",
       "      <td>01004</td>\n",
       "      <td>28.6227</td>\n",
       "      <td>contrat_1_2</td>\n",
       "      <td>...</td>\n",
       "      <td>01</td>\n",
       "      <td>378.0</td>\n",
       "      <td>NZ</td>\n",
       "      <td>TTP</td>\n",
       "      <td>ct_9</td>\n",
       "      <td>14514.0</td>\n",
       "      <td>C</td>\n",
       "      <td>tr_1</td>\n",
       "      <td>674a</td>\n",
       "      <td>NaN</td>\n",
       "    </tr>\n",
       "    <tr>\n",
       "      <th>...</th>\n",
       "      <td>...</td>\n",
       "      <td>...</td>\n",
       "      <td>...</td>\n",
       "      <td>...</td>\n",
       "      <td>...</td>\n",
       "      <td>...</td>\n",
       "      <td>...</td>\n",
       "      <td>...</td>\n",
       "      <td>...</td>\n",
       "      <td>...</td>\n",
       "      <td>...</td>\n",
       "      <td>...</td>\n",
       "      <td>...</td>\n",
       "      <td>...</td>\n",
       "      <td>...</td>\n",
       "      <td>...</td>\n",
       "      <td>...</td>\n",
       "      <td>...</td>\n",
       "      <td>...</td>\n",
       "      <td>...</td>\n",
       "      <td>...</td>\n",
       "    </tr>\n",
       "    <tr>\n",
       "      <th>99992</th>\n",
       "      <td>type1-1</td>\n",
       "      <td>37</td>\n",
       "      <td>Male</td>\n",
       "      <td>csp_5_4</td>\n",
       "      <td>False</td>\n",
       "      <td>DIP|1|8</td>\n",
       "      <td>ft4-1</td>\n",
       "      <td>95680</td>\n",
       "      <td>43.6648</td>\n",
       "      <td>contrat_1_6</td>\n",
       "      <td>...</td>\n",
       "      <td>95</td>\n",
       "      <td>1498.0</td>\n",
       "      <td>FZ</td>\n",
       "      <td>CDI</td>\n",
       "      <td>ct_6</td>\n",
       "      <td>20236.0</td>\n",
       "      <td>C</td>\n",
       "      <td>tr_4</td>\n",
       "      <td>542a</td>\n",
       "      <td>NaN</td>\n",
       "    </tr>\n",
       "    <tr>\n",
       "      <th>99993</th>\n",
       "      <td>type1-1</td>\n",
       "      <td>31</td>\n",
       "      <td>Male</td>\n",
       "      <td>csp_4_6</td>\n",
       "      <td>False</td>\n",
       "      <td>DIP|1|3</td>\n",
       "      <td>ft1-1</td>\n",
       "      <td>95680</td>\n",
       "      <td>32.3600</td>\n",
       "      <td>contrat_1_6</td>\n",
       "      <td>...</td>\n",
       "      <td>92</td>\n",
       "      <td>1819.0</td>\n",
       "      <td>GZ</td>\n",
       "      <td>CDI</td>\n",
       "      <td>ct_9</td>\n",
       "      <td>36107.0</td>\n",
       "      <td>C</td>\n",
       "      <td>tr_6</td>\n",
       "      <td>466c</td>\n",
       "      <td>NaN</td>\n",
       "    </tr>\n",
       "    <tr>\n",
       "      <th>99994</th>\n",
       "      <td>type2-1</td>\n",
       "      <td>76</td>\n",
       "      <td>Female</td>\n",
       "      <td>csp_7_5</td>\n",
       "      <td>False</td>\n",
       "      <td>DIP|1|2</td>\n",
       "      <td>ft1-2</td>\n",
       "      <td>95680</td>\n",
       "      <td>44.8873</td>\n",
       "      <td>NaN</td>\n",
       "      <td>...</td>\n",
       "      <td>NaN</td>\n",
       "      <td>NaN</td>\n",
       "      <td>NaN</td>\n",
       "      <td>NaN</td>\n",
       "      <td>NaN</td>\n",
       "      <td>NaN</td>\n",
       "      <td>NaN</td>\n",
       "      <td>NaN</td>\n",
       "      <td>NaN</td>\n",
       "      <td>NaN</td>\n",
       "    </tr>\n",
       "    <tr>\n",
       "      <th>99997</th>\n",
       "      <td>type2-2</td>\n",
       "      <td>24</td>\n",
       "      <td>Female</td>\n",
       "      <td>csp_8_4</td>\n",
       "      <td>True</td>\n",
       "      <td>DIP|1|6</td>\n",
       "      <td>ft3-1</td>\n",
       "      <td>95680</td>\n",
       "      <td>48.3377</td>\n",
       "      <td>NaN</td>\n",
       "      <td>...</td>\n",
       "      <td>NaN</td>\n",
       "      <td>NaN</td>\n",
       "      <td>NaN</td>\n",
       "      <td>NaN</td>\n",
       "      <td>NaN</td>\n",
       "      <td>NaN</td>\n",
       "      <td>NaN</td>\n",
       "      <td>NaN</td>\n",
       "      <td>NaN</td>\n",
       "      <td>NaN</td>\n",
       "    </tr>\n",
       "    <tr>\n",
       "      <th>99998</th>\n",
       "      <td>type2-1</td>\n",
       "      <td>63</td>\n",
       "      <td>Female</td>\n",
       "      <td>csp_7_4</td>\n",
       "      <td>False</td>\n",
       "      <td>DIP|1|3</td>\n",
       "      <td>ft1-2</td>\n",
       "      <td>95680</td>\n",
       "      <td>46.5531</td>\n",
       "      <td>NaN</td>\n",
       "      <td>...</td>\n",
       "      <td>NaN</td>\n",
       "      <td>NaN</td>\n",
       "      <td>NaN</td>\n",
       "      <td>NaN</td>\n",
       "      <td>NaN</td>\n",
       "      <td>NaN</td>\n",
       "      <td>NaN</td>\n",
       "      <td>NaN</td>\n",
       "      <td>NaN</td>\n",
       "      <td>NaN</td>\n",
       "    </tr>\n",
       "  </tbody>\n",
       "</table>\n",
       "<p>50000 rows × 21 columns</p>\n",
       "</div>"
      ],
      "text/plain": [
       "      ACTIVITY_TYPE  AGE_2018     sex OCCUPATION_42  Is_student   degree  \\\n",
       "UID                                                                        \n",
       "1           type1-1        44    Male       csp_4_5       False  DIP|1|3   \n",
       "3           type2-1        52    Male       csp_7_7       False  DIP|1|1   \n",
       "5           type2-1        80    Male       csp_7_4       False  DIP|1|7   \n",
       "7           type1-1        58    Male       csp_2_2       False  DIP|1|6   \n",
       "11          type1-1        42    Male       csp_6_7       False  DIP|1|3   \n",
       "...             ...       ...     ...           ...         ...      ...   \n",
       "99992       type1-1        37    Male       csp_5_4       False  DIP|1|8   \n",
       "99993       type1-1        31    Male       csp_4_6       False  DIP|1|3   \n",
       "99994       type2-1        76  Female       csp_7_5       False  DIP|1|2   \n",
       "99997       type2-2        24  Female       csp_8_4        True  DIP|1|6   \n",
       "99998       type2-1        63  Female       csp_7_4       False  DIP|1|3   \n",
       "\n",
       "      household_type  Insee   target emp_contract  ... JOB_DEP Working_hours  \\\n",
       "UID                                                ...                         \n",
       "1              ft4-1  01004  33.1791  contrat_1_6  ...      71        1838.0   \n",
       "3              ft4-3  01004  42.3055          NaN  ...     NaN           NaN   \n",
       "5              ft4-4  01004  45.9223          NaN  ...     NaN           NaN   \n",
       "7              ft1-1  01004  39.3028  contrat_2_2  ...     NaN           NaN   \n",
       "11             ft1-1  01004  28.6227  contrat_1_2  ...      01         378.0   \n",
       "...              ...    ...      ...          ...  ...     ...           ...   \n",
       "99992          ft4-1  95680  43.6648  contrat_1_6  ...      95        1498.0   \n",
       "99993          ft1-1  95680  32.3600  contrat_1_6  ...      92        1819.0   \n",
       "99994          ft1-2  95680  44.8873          NaN  ...     NaN           NaN   \n",
       "99997          ft3-1  95680  48.3377          NaN  ...     NaN           NaN   \n",
       "99998          ft1-2  95680  46.5531          NaN  ...     NaN           NaN   \n",
       "\n",
       "       eco_sect Terms_of_emp Employer_type Emolument  JOB_CONDITION  \\\n",
       "UID                                                                   \n",
       "1            HZ          CDI          ct_9   20794.0              C   \n",
       "3           NaN          NaN           NaN       NaN            NaN   \n",
       "5           NaN          NaN           NaN       NaN            NaN   \n",
       "7           NaN          NaN           NaN       NaN            NaN   \n",
       "11           NZ          TTP          ct_9   14514.0              C   \n",
       "...         ...          ...           ...       ...            ...   \n",
       "99992        FZ          CDI          ct_6   20236.0              C   \n",
       "99993        GZ          CDI          ct_9   36107.0              C   \n",
       "99994       NaN          NaN           NaN       NaN            NaN   \n",
       "99997       NaN          NaN           NaN       NaN            NaN   \n",
       "99998       NaN          NaN           NaN       NaN            NaN   \n",
       "\n",
       "      employee_count Work_description Sports  \n",
       "UID                                           \n",
       "1               tr_5             451a    NaN  \n",
       "3                NaN              NaN    NaN  \n",
       "5                NaN              NaN    NaN  \n",
       "7                NaN              NaN    NaN  \n",
       "11              tr_1             674a    NaN  \n",
       "...              ...              ...    ...  \n",
       "99992           tr_4             542a    NaN  \n",
       "99993           tr_6             466c    NaN  \n",
       "99994            NaN              NaN    NaN  \n",
       "99997            NaN              NaN    NaN  \n",
       "99998            NaN              NaN    NaN  \n",
       "\n",
       "[50000 rows x 21 columns]"
      ]
     },
     "execution_count": 122,
     "metadata": {},
     "output_type": "execute_result"
    }
   ],
   "source": [
    "df"
   ]
  },
  {
   "cell_type": "code",
   "execution_count": 125,
   "id": "80d3eb20",
   "metadata": {},
   "outputs": [
    {
     "data": {
      "text/plain": [
       "ACTIVITY_TYPE       0.00000\n",
       "AGE_2018            0.00000\n",
       "sex                 0.00000\n",
       "OCCUPATION_42       0.00000\n",
       "Is_student          0.00000\n",
       "degree              0.00000\n",
       "household_type      0.00000\n",
       "Insee               0.00000\n",
       "target              0.00000\n",
       "emp_contract        0.51280\n",
       "employee_count      0.60776\n",
       "JOB_CONDITION       0.60776\n",
       "Emolument           0.60776\n",
       "Employer_type       0.60776\n",
       "JOB_CATEGORY        0.60776\n",
       "eco_sect            0.60776\n",
       "JOB_DEP             0.60776\n",
       "Work_description    0.60776\n",
       "Terms_of_emp        0.60776\n",
       "Working_hours       0.60906\n",
       "Sports              0.84578\n",
       "dtype: float64"
      ]
     },
     "execution_count": 125,
     "metadata": {},
     "output_type": "execute_result"
    }
   ],
   "source": [
    "(df.isna().sum() / df.shape[0]).sort_values(ascending=True)"
   ]
  },
  {
   "cell_type": "code",
   "execution_count": 126,
   "id": "4676e981",
   "metadata": {},
   "outputs": [
    {
     "data": {
      "text/plain": [
       "<AxesSubplot:ylabel='UID'>"
      ]
     },
     "execution_count": 126,
     "metadata": {},
     "output_type": "execute_result"
    },
    {
     "data": {
      "image/png": "[encoded data removed]",
      "text/plain": [
       "<Figure size 2000x1000 with 2 Axes>"
      ]
     },
     "metadata": {},
     "output_type": "display_data"
    }
   ],
   "source": [
    "plt.figure(figsize=(20,10))\n",
    "sns.heatmap(df.isna())"
   ]
  },
  {
   "cell_type": "code",
   "execution_count": 127,
   "id": "4feb8a34",
   "metadata": {},
   "outputs": [
    {
     "data": {
      "text/plain": [
       "ACTIVITY_TYPE        object\n",
       "AGE_2018              int64\n",
       "sex                  object\n",
       "OCCUPATION_42        object\n",
       "Is_student             bool\n",
       "degree               object\n",
       "household_type       object\n",
       "Insee                object\n",
       "target              float64\n",
       "emp_contract         object\n",
       "JOB_CATEGORY         object\n",
       "JOB_DEP              object\n",
       "Working_hours       float64\n",
       "eco_sect             object\n",
       "Terms_of_emp         object\n",
       "Employer_type        object\n",
       "Emolument           float64\n",
       "JOB_CONDITION        object\n",
       "employee_count       object\n",
       "Work_description     object\n",
       "Sports               object\n",
       "dtype: object"
      ]
     },
     "execution_count": 127,
     "metadata": {},
     "output_type": "execute_result"
    }
   ],
   "source": [
    "df.dtypes"
   ]
  },
  {
   "cell_type": "code",
   "execution_count": 131,
   "id": "4e801066",
   "metadata": {},
   "outputs": [
    {
     "data": {
      "text/plain": [
       "<Figure size 640x480 with 0 Axes>"
      ]
     },
     "metadata": {},
     "output_type": "display_data"
    },
    {
     "data": {
      "image/png": "[encoded data removed]",
      "text/plain": [
       "<Figure size 500x500 with 1 Axes>"
      ]
     },
     "metadata": {},
     "output_type": "display_data"
    },
    {
     "data": {
      "text/plain": [
       "<Figure size 640x480 with 0 Axes>"
      ]
     },
     "metadata": {},
     "output_type": "display_data"
    },
    {
     "data": {
      "image/png": "[encoded data removed]",
      "text/plain": [
       "<Figure size 500x500 with 1 Axes>"
      ]
     },
     "metadata": {},
     "output_type": "display_data"
    },
    {
     "data": {
      "text/plain": [
       "<Figure size 640x480 with 0 Axes>"
      ]
     },
     "metadata": {},
     "output_type": "display_data"
    },
    {
     "data": {
      "image/png": "[encoded data removed]",
      "text/plain": [
       "<Figure size 500x500 with 1 Axes>"
      ]
     },
     "metadata": {},
     "output_type": "display_data"
    }
   ],
   "source": [
    "for col in df.select_dtypes('float'):\n",
    "    plt.figure()\n",
    "    sns.displot(df[col], kde=True)"
   ]
  },
  {
   "cell_type": "code",
   "execution_count": 129,
   "id": "ffe522cc",
   "metadata": {},
   "outputs": [
    {
     "data": {
      "text/plain": [
       "AGE_2018         0.275372\n",
       "Is_student      -0.070706\n",
       "target           1.000000\n",
       "Working_hours   -0.013590\n",
       "Emolument       -0.077818\n",
       "Name: target, dtype: float64"
      ]
     },
     "execution_count": 129,
     "metadata": {},
     "output_type": "execute_result"
    }
   ],
   "source": [
    "df.corr()[\"target\"]"
   ]
  },
  {
   "cell_type": "code",
   "execution_count": 148,
   "id": "44106780",
   "metadata": {},
   "outputs": [],
   "source": [
    "_df = df[[\"Emolument\", \"Working_hours\", \"AGE_2018\", \"target\"]]"
   ]
  },
  {
   "cell_type": "code",
   "execution_count": 149,
   "id": "0496eae2",
   "metadata": {},
   "outputs": [
    {
     "data": {
      "text/html": [
       "<div>\n",
       "<style scoped>\n",
       "    .dataframe tbody tr th:only-of-type {\n",
       "        vertical-align: middle;\n",
       "    }\n",
       "\n",
       "    .dataframe tbody tr th {\n",
       "        vertical-align: top;\n",
       "    }\n",
       "\n",
       "    .dataframe thead th {\n",
       "        text-align: right;\n",
       "    }\n",
       "</style>\n",
       "<table border=\"1\" class=\"dataframe\">\n",
       "  <thead>\n",
       "    <tr style=\"text-align: right;\">\n",
       "      <th></th>\n",
       "      <th>Emolument</th>\n",
       "      <th>Working_hours</th>\n",
       "      <th>AGE_2018</th>\n",
       "      <th>target</th>\n",
       "    </tr>\n",
       "    <tr>\n",
       "      <th>UID</th>\n",
       "      <th></th>\n",
       "      <th></th>\n",
       "      <th></th>\n",
       "      <th></th>\n",
       "    </tr>\n",
       "  </thead>\n",
       "  <tbody>\n",
       "    <tr>\n",
       "      <th>1</th>\n",
       "      <td>20794.0</td>\n",
       "      <td>1838.0</td>\n",
       "      <td>44</td>\n",
       "      <td>33.1791</td>\n",
       "    </tr>\n",
       "    <tr>\n",
       "      <th>3</th>\n",
       "      <td>NaN</td>\n",
       "      <td>NaN</td>\n",
       "      <td>52</td>\n",
       "      <td>42.3055</td>\n",
       "    </tr>\n",
       "    <tr>\n",
       "      <th>5</th>\n",
       "      <td>NaN</td>\n",
       "      <td>NaN</td>\n",
       "      <td>80</td>\n",
       "      <td>45.9223</td>\n",
       "    </tr>\n",
       "    <tr>\n",
       "      <th>7</th>\n",
       "      <td>NaN</td>\n",
       "      <td>NaN</td>\n",
       "      <td>58</td>\n",
       "      <td>39.3028</td>\n",
       "    </tr>\n",
       "    <tr>\n",
       "      <th>11</th>\n",
       "      <td>14514.0</td>\n",
       "      <td>378.0</td>\n",
       "      <td>42</td>\n",
       "      <td>28.6227</td>\n",
       "    </tr>\n",
       "    <tr>\n",
       "      <th>...</th>\n",
       "      <td>...</td>\n",
       "      <td>...</td>\n",
       "      <td>...</td>\n",
       "      <td>...</td>\n",
       "    </tr>\n",
       "    <tr>\n",
       "      <th>99992</th>\n",
       "      <td>20236.0</td>\n",
       "      <td>1498.0</td>\n",
       "      <td>37</td>\n",
       "      <td>43.6648</td>\n",
       "    </tr>\n",
       "    <tr>\n",
       "      <th>99993</th>\n",
       "      <td>36107.0</td>\n",
       "      <td>1819.0</td>\n",
       "      <td>31</td>\n",
       "      <td>32.3600</td>\n",
       "    </tr>\n",
       "    <tr>\n",
       "      <th>99994</th>\n",
       "      <td>NaN</td>\n",
       "      <td>NaN</td>\n",
       "      <td>76</td>\n",
       "      <td>44.8873</td>\n",
       "    </tr>\n",
       "    <tr>\n",
       "      <th>99997</th>\n",
       "      <td>NaN</td>\n",
       "      <td>NaN</td>\n",
       "      <td>24</td>\n",
       "      <td>48.3377</td>\n",
       "    </tr>\n",
       "    <tr>\n",
       "      <th>99998</th>\n",
       "      <td>NaN</td>\n",
       "      <td>NaN</td>\n",
       "      <td>63</td>\n",
       "      <td>46.5531</td>\n",
       "    </tr>\n",
       "  </tbody>\n",
       "</table>\n",
       "<p>50000 rows × 4 columns</p>\n",
       "</div>"
      ],
      "text/plain": [
       "       Emolument  Working_hours  AGE_2018   target\n",
       "UID                                               \n",
       "1        20794.0         1838.0        44  33.1791\n",
       "3            NaN            NaN        52  42.3055\n",
       "5            NaN            NaN        80  45.9223\n",
       "7            NaN            NaN        58  39.3028\n",
       "11       14514.0          378.0        42  28.6227\n",
       "...          ...            ...       ...      ...\n",
       "99992    20236.0         1498.0        37  43.6648\n",
       "99993    36107.0         1819.0        31  32.3600\n",
       "99994        NaN            NaN        76  44.8873\n",
       "99997        NaN            NaN        24  48.3377\n",
       "99998        NaN            NaN        63  46.5531\n",
       "\n",
       "[50000 rows x 4 columns]"
      ]
     },
     "execution_count": 149,
     "metadata": {},
     "output_type": "execute_result"
    }
   ],
   "source": [
    "_df"
   ]
  },
  {
   "cell_type": "code",
   "execution_count": 144,
   "id": "6ce3b725",
   "metadata": {},
   "outputs": [
    {
     "data": {
      "text/html": [
       "<div>\n",
       "<style scoped>\n",
       "    .dataframe tbody tr th:only-of-type {\n",
       "        vertical-align: middle;\n",
       "    }\n",
       "\n",
       "    .dataframe tbody tr th {\n",
       "        vertical-align: top;\n",
       "    }\n",
       "\n",
       "    .dataframe thead th {\n",
       "        text-align: right;\n",
       "    }\n",
       "</style>\n",
       "<table border=\"1\" class=\"dataframe\">\n",
       "  <thead>\n",
       "    <tr style=\"text-align: right;\">\n",
       "      <th></th>\n",
       "      <th>Emolument</th>\n",
       "      <th>Working_hours</th>\n",
       "      <th>target</th>\n",
       "      <th>AGE_2018</th>\n",
       "    </tr>\n",
       "  </thead>\n",
       "  <tbody>\n",
       "    <tr>\n",
       "      <th>Emolument</th>\n",
       "      <td>1.000000</td>\n",
       "      <td>0.550854</td>\n",
       "      <td>-0.077818</td>\n",
       "      <td>0.192678</td>\n",
       "    </tr>\n",
       "    <tr>\n",
       "      <th>Working_hours</th>\n",
       "      <td>0.550854</td>\n",
       "      <td>1.000000</td>\n",
       "      <td>-0.013590</td>\n",
       "      <td>0.091911</td>\n",
       "    </tr>\n",
       "    <tr>\n",
       "      <th>target</th>\n",
       "      <td>-0.077818</td>\n",
       "      <td>-0.013590</td>\n",
       "      <td>1.000000</td>\n",
       "      <td>0.275372</td>\n",
       "    </tr>\n",
       "    <tr>\n",
       "      <th>AGE_2018</th>\n",
       "      <td>0.192678</td>\n",
       "      <td>0.091911</td>\n",
       "      <td>0.275372</td>\n",
       "      <td>1.000000</td>\n",
       "    </tr>\n",
       "  </tbody>\n",
       "</table>\n",
       "</div>"
      ],
      "text/plain": [
       "               Emolument  Working_hours    target  AGE_2018\n",
       "Emolument       1.000000       0.550854 -0.077818  0.192678\n",
       "Working_hours   0.550854       1.000000 -0.013590  0.091911\n",
       "target         -0.077818      -0.013590  1.000000  0.275372\n",
       "AGE_2018        0.192678       0.091911  0.275372  1.000000"
      ]
     },
     "execution_count": 144,
     "metadata": {},
     "output_type": "execute_result"
    }
   ],
   "source": [
    "_df.corr()"
   ]
  },
  {
   "cell_type": "code",
   "execution_count": 146,
   "id": "8562b765",
   "metadata": {},
   "outputs": [
    {
     "data": {
      "text/plain": [
       "<seaborn.matrix.ClusterGrid at 0x7fac060ac6a0>"
      ]
     },
     "execution_count": 146,
     "metadata": {},
     "output_type": "execute_result"
    },
    {
     "data": {
      "text/plain": [
       "<Figure size 640x480 with 0 Axes>"
      ]
     },
     "metadata": {},
     "output_type": "display_data"
    },
    {
     "data": {
      "image/png": "[encoded data removed]",
      "text/plain": [
       "<Figure size 1000x1000 with 4 Axes>"
      ]
     },
     "metadata": {},
     "output_type": "display_data"
    }
   ],
   "source": [
    "plt.figure()\n",
    "sns.clustermap(_df.corr())"
   ]
  },
  {
   "cell_type": "code",
   "execution_count": 133,
   "id": "ea48356e",
   "metadata": {},
   "outputs": [
    {
     "data": {
      "text/plain": [
       "ACTIVITY_TYPE       0.06146\n",
       "AGE_2018            0.06146\n",
       "sex                 0.06146\n",
       "OCCUPATION_42       0.06146\n",
       "Is_student          0.06146\n",
       "degree              0.06146\n",
       "household_type      0.06146\n",
       "Insee               0.06146\n",
       "target              0.06146\n",
       "emp_contract        0.06146\n",
       "JOB_CATEGORY        0.06146\n",
       "JOB_DEP             0.06146\n",
       "Working_hours       0.06146\n",
       "eco_sect            0.06146\n",
       "Terms_of_emp        0.06146\n",
       "Employer_type       0.06146\n",
       "Emolument           0.06146\n",
       "JOB_CONDITION       0.06146\n",
       "employee_count      0.06146\n",
       "Work_description    0.06146\n",
       "Sports              0.06146\n",
       "dtype: float64"
      ]
     },
     "execution_count": 133,
     "metadata": {},
     "output_type": "execute_result"
    }
   ],
   "source": [
    "df.dropna().count() / df.shape[0]"
   ]
  },
  {
   "cell_type": "code",
   "execution_count": null,
   "id": "6d427f43",
   "metadata": {},
   "outputs": [],
   "source": []
  }
 ],
 "metadata": {
  "kernelspec": {
   "display_name": "Python 3",
   "language": "python",
   "name": "python3"
  },
  "language_info": {
   "codemirror_mode": {
    "name": "ipython",
    "version": 3
   },
   "file_extension": ".py",
   "mimetype": "text/x-python",
   "name": "python",
   "nbconvert_exporter": "python",
   "pygments_lexer": "ipython3",
   "version": "3.9.13"
  }
 },
 "nbformat": 4,
 "nbformat_minor": 5
}
