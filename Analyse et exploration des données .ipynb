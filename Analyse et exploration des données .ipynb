{
 "cells": [
  {
   "cell_type": "markdown",
   "id": "2cad483b",
   "metadata": {},
   "source": [
    " ## 1. Analyse et exploration des données"
   ]
  },
  {
   "cell_type": "code",
   "execution_count": 1,
   "id": "0bb5674d",
   "metadata": {},
   "outputs": [],
   "source": [
    "import numpy as np \n",
    "import pandas as pd \n",
    "import matplotlib.pyplot as plt \n",
    "import seaborn as sns "
   ]
  },
  {
   "cell_type": "code",
   "execution_count": 2,
   "id": "c0dd4d82",
   "metadata": {},
   "outputs": [],
   "source": [
    "data = pd.read_csv(\"learn_dataset.csv\")"
   ]
  },
  {
   "cell_type": "code",
   "execution_count": 3,
   "id": "317150fe",
   "metadata": {},
   "outputs": [],
   "source": [
    "df = data.copy()"
   ]
  },
  {
   "cell_type": "code",
   "execution_count": 4,
   "id": "573f4346",
   "metadata": {},
   "outputs": [
    {
     "data": {
      "text/html": [
       "<div>\n",
       "<style scoped>\n",
       "    .dataframe tbody tr th:only-of-type {\n",
       "        vertical-align: middle;\n",
       "    }\n",
       "\n",
       "    .dataframe tbody tr th {\n",
       "        vertical-align: top;\n",
       "    }\n",
       "\n",
       "    .dataframe thead th {\n",
       "        text-align: right;\n",
       "    }\n",
       "</style>\n",
       "<table border=\"1\" class=\"dataframe\">\n",
       "  <thead>\n",
       "    <tr style=\"text-align: right;\">\n",
       "      <th></th>\n",
       "      <th>UID</th>\n",
       "      <th>ACTIVITY_TYPE</th>\n",
       "      <th>AGE_2018</th>\n",
       "      <th>sex</th>\n",
       "      <th>OCCUPATION_42</th>\n",
       "      <th>Is_student</th>\n",
       "      <th>degree</th>\n",
       "      <th>household_type</th>\n",
       "      <th>Insee</th>\n",
       "      <th>target</th>\n",
       "    </tr>\n",
       "  </thead>\n",
       "  <tbody>\n",
       "    <tr>\n",
       "      <th>0</th>\n",
       "      <td>1</td>\n",
       "      <td>type1-1</td>\n",
       "      <td>44</td>\n",
       "      <td>Male</td>\n",
       "      <td>csp_4_5</td>\n",
       "      <td>False</td>\n",
       "      <td>DIP|1|3</td>\n",
       "      <td>ft4-1</td>\n",
       "      <td>01004</td>\n",
       "      <td>33.1791</td>\n",
       "    </tr>\n",
       "    <tr>\n",
       "      <th>1</th>\n",
       "      <td>3</td>\n",
       "      <td>type2-1</td>\n",
       "      <td>52</td>\n",
       "      <td>Male</td>\n",
       "      <td>csp_7_7</td>\n",
       "      <td>False</td>\n",
       "      <td>DIP|1|1</td>\n",
       "      <td>ft4-3</td>\n",
       "      <td>01004</td>\n",
       "      <td>42.3055</td>\n",
       "    </tr>\n",
       "    <tr>\n",
       "      <th>2</th>\n",
       "      <td>5</td>\n",
       "      <td>type2-1</td>\n",
       "      <td>80</td>\n",
       "      <td>Male</td>\n",
       "      <td>csp_7_4</td>\n",
       "      <td>False</td>\n",
       "      <td>DIP|1|7</td>\n",
       "      <td>ft4-4</td>\n",
       "      <td>01004</td>\n",
       "      <td>45.9223</td>\n",
       "    </tr>\n",
       "    <tr>\n",
       "      <th>3</th>\n",
       "      <td>7</td>\n",
       "      <td>type1-1</td>\n",
       "      <td>58</td>\n",
       "      <td>Male</td>\n",
       "      <td>csp_2_2</td>\n",
       "      <td>False</td>\n",
       "      <td>DIP|1|6</td>\n",
       "      <td>ft1-1</td>\n",
       "      <td>01004</td>\n",
       "      <td>39.3028</td>\n",
       "    </tr>\n",
       "    <tr>\n",
       "      <th>4</th>\n",
       "      <td>11</td>\n",
       "      <td>type1-1</td>\n",
       "      <td>42</td>\n",
       "      <td>Male</td>\n",
       "      <td>csp_6_7</td>\n",
       "      <td>False</td>\n",
       "      <td>DIP|1|3</td>\n",
       "      <td>ft1-1</td>\n",
       "      <td>01004</td>\n",
       "      <td>28.6227</td>\n",
       "    </tr>\n",
       "  </tbody>\n",
       "</table>\n",
       "</div>"
      ],
      "text/plain": [
       "   UID ACTIVITY_TYPE  AGE_2018   sex OCCUPATION_42  Is_student   degree  \\\n",
       "0    1       type1-1        44  Male       csp_4_5       False  DIP|1|3   \n",
       "1    3       type2-1        52  Male       csp_7_7       False  DIP|1|1   \n",
       "2    5       type2-1        80  Male       csp_7_4       False  DIP|1|7   \n",
       "3    7       type1-1        58  Male       csp_2_2       False  DIP|1|6   \n",
       "4   11       type1-1        42  Male       csp_6_7       False  DIP|1|3   \n",
       "\n",
       "  household_type  Insee   target  \n",
       "0          ft4-1  01004  33.1791  \n",
       "1          ft4-3  01004  42.3055  \n",
       "2          ft4-4  01004  45.9223  \n",
       "3          ft1-1  01004  39.3028  \n",
       "4          ft1-1  01004  28.6227  "
      ]
     },
     "execution_count": 4,
     "metadata": {},
     "output_type": "execute_result"
    }
   ],
   "source": [
    "df.head()"
   ]
  },
  {
   "cell_type": "code",
   "execution_count": 5,
   "id": "56c49f1d",
   "metadata": {},
   "outputs": [
    {
     "data": {
      "text/plain": [
       "(50000, 10)"
      ]
     },
     "execution_count": 5,
     "metadata": {},
     "output_type": "execute_result"
    }
   ],
   "source": [
    "df.shape "
   ]
  },
  {
   "cell_type": "code",
   "execution_count": 6,
   "id": "692960ef",
   "metadata": {},
   "outputs": [
    {
     "data": {
      "text/plain": [
       "object     6\n",
       "int64      2\n",
       "bool       1\n",
       "float64    1\n",
       "dtype: int64"
      ]
     },
     "execution_count": 6,
     "metadata": {},
     "output_type": "execute_result"
    }
   ],
   "source": [
    "df.dtypes.value_counts()"
   ]
  },
  {
   "cell_type": "code",
   "execution_count": 7,
   "id": "91a96496",
   "metadata": {},
   "outputs": [
    {
     "data": {
      "text/plain": [
       "UID               0.0\n",
       "ACTIVITY_TYPE     0.0\n",
       "AGE_2018          0.0\n",
       "sex               0.0\n",
       "OCCUPATION_42     0.0\n",
       "Is_student        0.0\n",
       "degree            0.0\n",
       "household_type    0.0\n",
       "Insee             0.0\n",
       "target            0.0\n",
       "dtype: float64"
      ]
     },
     "execution_count": 7,
     "metadata": {},
     "output_type": "execute_result"
    }
   ],
   "source": [
    "(df.isna().sum()/df.shape[0]).sort_values(ascending=True)"
   ]
  },
  {
   "cell_type": "code",
   "execution_count": 8,
   "id": "4a46331c",
   "metadata": {},
   "outputs": [
    {
     "data": {
      "image/png": "[encoded data removed]",
      "text/plain": [
       "<Figure size 640x480 with 1 Axes>"
      ]
     },
     "metadata": {},
     "output_type": "display_data"
    }
   ],
   "source": [
    "for col in df.select_dtypes('float'):\n",
    "    plt.figure()\n",
    "    sns.histplot(df[col], kde=True)\n",
    "  "
   ]
  },
  {
   "cell_type": "code",
   "execution_count": 9,
   "id": "095b08fd",
   "metadata": {},
   "outputs": [
    {
     "data": {
      "text/plain": [
       "<AxesSubplot:xlabel='AGE_2018', ylabel='Count'>"
      ]
     },
     "execution_count": 9,
     "metadata": {},
     "output_type": "execute_result"
    },
    {
     "data": {
      "image/png": "[encoded data removed]",
      "text/plain": [
       "<Figure size 640x480 with 1 Axes>"
      ]
     },
     "metadata": {},
     "output_type": "display_data"
    }
   ],
   "source": [
    "plt.figure()\n",
    "sns.histplot(df['AGE_2018'], kde=True)"
   ]
  },
  {
   "cell_type": "code",
   "execution_count": 10,
   "id": "8dea8a02",
   "metadata": {},
   "outputs": [
    {
     "name": "stdout",
     "output_type": "stream",
     "text": [
      "ACTIVITY_TYPE------------------------------------- ['type1-1' 'type2-1' 'type2-4' 'type2-2' 'type2-5' 'type1-2']\n",
      "sex----------------------------------------------- ['Male' 'Female']\n",
      "OCCUPATION_42------------------------------------- ['csp_4_5' 'csp_7_7' 'csp_7_4' 'csp_2_2' 'csp_6_7' 'csp_1_1' 'csp_8_6'\n",
      " 'csp_8_4' 'csp_8_5' 'csp_7_5' 'csp_5_2' 'csp_7_8' 'csp_5_4' 'csp_6_3'\n",
      " 'csp_6_2' 'csp_8_1' 'csp_4_3' 'csp_3_8' 'csp_5_5' 'csp_7_1' 'csp_6_9'\n",
      " 'csp_4_6' 'csp_4_7' 'csp_4_8' 'csp_6_4' 'csp_3_7' 'csp_3_5' 'csp_5_3'\n",
      " 'csp_3_3' 'csp_7_2' 'csp_2_3' 'csp_2_1' 'csp_5_6' 'csp_6_8' 'csp_4_2'\n",
      " 'csp_3_4' 'csp_1_2' 'csp_1_3' 'csp_3_1' 'csp_6_5' 'csp_4_4']\n",
      "degree-------------------------------------------- ['DIP|1|3' 'DIP|1|1' 'DIP|1|7' 'DIP|1|6' 'DIP|1|5' 'DIP|1|4' 'DIP|2'\n",
      " 'DIP|3' 'DIP|1|2' 'DIP|1|8' 'DIP|1' 'DIP|1|9']\n",
      "household_type------------------------------------ ['ft4-1' 'ft4-3' 'ft4-4' 'ft1-1' 'ft4-2' 'ft3-2' 'ft1-2' 'ft2-0' 'ft3-1']\n",
      "Insee--------------------------------------------- ['01004' '01013' '01014' ... '95675' '95678' '95680']\n"
     ]
    }
   ],
   "source": [
    "for col in df.select_dtypes('object'):\n",
    "    print(f'{col:-<50} {df[col].unique()}')"
   ]
  },
  {
   "cell_type": "code",
   "execution_count": 11,
   "id": "da5981c2",
   "metadata": {},
   "outputs": [
    {
     "data": {
      "text/plain": [
       "Female    0.523\n",
       "Male      0.477\n",
       "Name: sex, dtype: float64"
      ]
     },
     "execution_count": 11,
     "metadata": {},
     "output_type": "execute_result"
    }
   ],
   "source": [
    "df['sex'].value_counts(normalize=True)"
   ]
  },
  {
   "cell_type": "code",
   "execution_count": 12,
   "id": "970ed474",
   "metadata": {},
   "outputs": [
    {
     "name": "stdout",
     "output_type": "stream",
     "text": [
      "type1-1    0.48720\n",
      "type2-1    0.26950\n",
      "type2-2    0.09530\n",
      "type1-2    0.07572\n",
      "type2-5    0.04308\n",
      "type2-4    0.02920\n",
      "Name: ACTIVITY_TYPE, dtype: float64\n",
      "Female    0.523\n",
      "Male      0.477\n",
      "Name: sex, dtype: float64\n",
      "csp_7_7    0.08726\n",
      "csp_8_4    0.08680\n",
      "csp_7_8    0.06578\n",
      "csp_8_5    0.06532\n",
      "csp_7_5    0.05358\n",
      "csp_4_6    0.04812\n",
      "csp_5_2    0.04760\n",
      "csp_5_6    0.03832\n",
      "csp_5_4    0.03388\n",
      "csp_6_3    0.02920\n",
      "csp_4_3    0.02872\n",
      "csp_5_5    0.02704\n",
      "csp_3_8    0.02566\n",
      "csp_3_7    0.02564\n",
      "csp_6_7    0.02500\n",
      "csp_4_7    0.02418\n",
      "csp_7_4    0.02400\n",
      "csp_7_2    0.02236\n",
      "csp_6_2    0.01966\n",
      "csp_8_6    0.01914\n",
      "csp_4_2    0.01852\n",
      "csp_2_1    0.01672\n",
      "csp_6_8    0.01650\n",
      "csp_3_4    0.01610\n",
      "csp_2_2    0.01460\n",
      "csp_6_4    0.01360\n",
      "csp_7_1    0.01284\n",
      "csp_5_3    0.01184\n",
      "csp_4_8    0.01106\n",
      "csp_3_1    0.01088\n",
      "csp_3_3    0.01030\n",
      "csp_4_5    0.00918\n",
      "csp_6_5    0.00886\n",
      "csp_8_1    0.00860\n",
      "csp_3_5    0.00668\n",
      "csp_1_1    0.00538\n",
      "csp_6_9    0.00524\n",
      "csp_2_3    0.00334\n",
      "csp_1_3    0.00168\n",
      "csp_4_4    0.00044\n",
      "csp_1_2    0.00038\n",
      "Name: OCCUPATION_42, dtype: float64\n",
      "DIP|1|3    0.22526\n",
      "DIP|1|4    0.10862\n",
      "DIP|1|6    0.10306\n",
      "DIP|1|8    0.08986\n",
      "DIP|1|7    0.08786\n",
      "DIP|1|2    0.08640\n",
      "DIP|1|5    0.07232\n",
      "DIP|1|1    0.07030\n",
      "DIP|3      0.07014\n",
      "DIP|2      0.05416\n",
      "DIP|1      0.02354\n",
      "DIP|1|9    0.00848\n",
      "Name: degree, dtype: float64\n",
      "ft4-1    0.33430\n",
      "ft4-4    0.19200\n",
      "ft1-2    0.11316\n",
      "ft4-2    0.09254\n",
      "ft1-1    0.08554\n",
      "ft3-2    0.08162\n",
      "ft4-3    0.05838\n",
      "ft2-0    0.02506\n",
      "ft3-1    0.01740\n",
      "Name: household_type, dtype: float64\n",
      "31555    0.00692\n",
      "06088    0.00606\n",
      "34172    0.00508\n",
      "44109    0.00430\n",
      "67482    0.00414\n",
      "          ...   \n",
      "47109    0.00002\n",
      "47104    0.00002\n",
      "47101    0.00002\n",
      "47094    0.00002\n",
      "50108    0.00002\n",
      "Name: Insee, Length: 13757, dtype: float64\n"
     ]
    }
   ],
   "source": [
    "for col in df.select_dtypes('object'):\n",
    "    print(df[col].value_counts(normalize=True))"
   ]
  },
  {
   "cell_type": "code",
   "execution_count": 13,
   "id": "8b2e4a2b",
   "metadata": {},
   "outputs": [
    {
     "data": {
      "text/plain": [
       "Is_student   -0.512781\n",
       "UID          -0.049490\n",
       "target        0.275372\n",
       "AGE_2018      1.000000\n",
       "Name: AGE_2018, dtype: float64"
      ]
     },
     "execution_count": 13,
     "metadata": {},
     "output_type": "execute_result"
    }
   ],
   "source": [
    "df.corr()[\"AGE_2018\"].sort_values()"
   ]
  },
  {
   "cell_type": "markdown",
   "id": "a13eccb0",
   "metadata": {},
   "source": [
    "## JOB"
   ]
  },
  {
   "cell_type": "code",
   "execution_count": 30,
   "id": "ddeb581e",
   "metadata": {},
   "outputs": [],
   "source": [
    "data = pd.read_csv(\"learn_dataset_job.csv\")"
   ]
  },
  {
   "cell_type": "code",
   "execution_count": 31,
   "id": "23e920ef",
   "metadata": {},
   "outputs": [
    {
     "data": {
      "text/html": [
       "<div>\n",
       "<style scoped>\n",
       "    .dataframe tbody tr th:only-of-type {\n",
       "        vertical-align: middle;\n",
       "    }\n",
       "\n",
       "    .dataframe tbody tr th {\n",
       "        vertical-align: top;\n",
       "    }\n",
       "\n",
       "    .dataframe thead th {\n",
       "        text-align: right;\n",
       "    }\n",
       "</style>\n",
       "<table border=\"1\" class=\"dataframe\">\n",
       "  <thead>\n",
       "    <tr style=\"text-align: right;\">\n",
       "      <th></th>\n",
       "      <th>UID</th>\n",
       "      <th>JOB_CATEGORY</th>\n",
       "      <th>JOB_DEP</th>\n",
       "      <th>Working_hours</th>\n",
       "      <th>eco_sect</th>\n",
       "      <th>Terms_of_emp</th>\n",
       "      <th>Employer_type</th>\n",
       "      <th>Emolument</th>\n",
       "      <th>JOB_CONDITION</th>\n",
       "      <th>employee_count</th>\n",
       "      <th>Work_description</th>\n",
       "    </tr>\n",
       "  </thead>\n",
       "  <tbody>\n",
       "    <tr>\n",
       "      <th>0</th>\n",
       "      <td>1</td>\n",
       "      <td>O</td>\n",
       "      <td>71</td>\n",
       "      <td>1838.0</td>\n",
       "      <td>HZ</td>\n",
       "      <td>CDI</td>\n",
       "      <td>ct_9</td>\n",
       "      <td>20794</td>\n",
       "      <td>C</td>\n",
       "      <td>tr_5</td>\n",
       "      <td>451a</td>\n",
       "    </tr>\n",
       "    <tr>\n",
       "      <th>1</th>\n",
       "      <td>11</td>\n",
       "      <td>O</td>\n",
       "      <td>01</td>\n",
       "      <td>378.0</td>\n",
       "      <td>NZ</td>\n",
       "      <td>TTP</td>\n",
       "      <td>ct_9</td>\n",
       "      <td>14514</td>\n",
       "      <td>C</td>\n",
       "      <td>tr_1</td>\n",
       "      <td>674a</td>\n",
       "    </tr>\n",
       "    <tr>\n",
       "      <th>2</th>\n",
       "      <td>40</td>\n",
       "      <td>O</td>\n",
       "      <td>69</td>\n",
       "      <td>1958.0</td>\n",
       "      <td>QA</td>\n",
       "      <td>CDI</td>\n",
       "      <td>ct_9</td>\n",
       "      <td>21847</td>\n",
       "      <td>C</td>\n",
       "      <td>tr_6</td>\n",
       "      <td>526a</td>\n",
       "    </tr>\n",
       "    <tr>\n",
       "      <th>3</th>\n",
       "      <td>48</td>\n",
       "      <td>O</td>\n",
       "      <td>69</td>\n",
       "      <td>1818.0</td>\n",
       "      <td>CH</td>\n",
       "      <td>CDI</td>\n",
       "      <td>ct_9</td>\n",
       "      <td>22790</td>\n",
       "      <td>P</td>\n",
       "      <td>tr_2</td>\n",
       "      <td>542a</td>\n",
       "    </tr>\n",
       "    <tr>\n",
       "      <th>4</th>\n",
       "      <td>52</td>\n",
       "      <td>O</td>\n",
       "      <td>38</td>\n",
       "      <td>1843.0</td>\n",
       "      <td>CB</td>\n",
       "      <td>CDI</td>\n",
       "      <td>ct_9</td>\n",
       "      <td>27498</td>\n",
       "      <td>C</td>\n",
       "      <td>tr_6</td>\n",
       "      <td>627a</td>\n",
       "    </tr>\n",
       "  </tbody>\n",
       "</table>\n",
       "</div>"
      ],
      "text/plain": [
       "   UID JOB_CATEGORY JOB_DEP  Working_hours eco_sect Terms_of_emp  \\\n",
       "0    1            O      71         1838.0       HZ          CDI   \n",
       "1   11            O      01          378.0       NZ          TTP   \n",
       "2   40            O      69         1958.0       QA          CDI   \n",
       "3   48            O      69         1818.0       CH          CDI   \n",
       "4   52            O      38         1843.0       CB          CDI   \n",
       "\n",
       "  Employer_type  Emolument JOB_CONDITION employee_count Work_description  \n",
       "0          ct_9      20794             C           tr_5             451a  \n",
       "1          ct_9      14514             C           tr_1             674a  \n",
       "2          ct_9      21847             C           tr_6             526a  \n",
       "3          ct_9      22790             P           tr_2             542a  \n",
       "4          ct_9      27498             C           tr_6             627a  "
      ]
     },
     "execution_count": 31,
     "metadata": {},
     "output_type": "execute_result"
    }
   ],
   "source": [
    "df = data.copy()\n",
    "df.head()"
   ]
  },
  {
   "cell_type": "code",
   "execution_count": 35,
   "id": "7615c6dd",
   "metadata": {},
   "outputs": [
    {
     "data": {
      "text/plain": [
       "(19612, 11)"
      ]
     },
     "execution_count": 35,
     "metadata": {},
     "output_type": "execute_result"
    }
   ],
   "source": [
    "df.shape"
   ]
  },
  {
   "cell_type": "code",
   "execution_count": 36,
   "id": "f3c87146",
   "metadata": {},
   "outputs": [
    {
     "data": {
      "text/plain": [
       "UID                   int64\n",
       "JOB_CATEGORY         object\n",
       "JOB_DEP              object\n",
       "Working_hours       float64\n",
       "eco_sect             object\n",
       "Terms_of_emp         object\n",
       "Employer_type        object\n",
       "Emolument             int64\n",
       "JOB_CONDITION        object\n",
       "employee_count       object\n",
       "Work_description     object\n",
       "dtype: object"
      ]
     },
     "execution_count": 36,
     "metadata": {},
     "output_type": "execute_result"
    }
   ],
   "source": [
    "df.dtypes"
   ]
  },
  {
   "cell_type": "code",
   "execution_count": 57,
   "id": "e1494269",
   "metadata": {},
   "outputs": [
    {
     "data": {
      "text/plain": [
       "UID                  0\n",
       "JOB_CATEGORY         0\n",
       "JOB_DEP              0\n",
       "Working_hours       65\n",
       "eco_sect             0\n",
       "Terms_of_emp         0\n",
       "Employer_type        0\n",
       "Emolument            0\n",
       "JOB_CONDITION        0\n",
       "employee_count       0\n",
       "Work_description     0\n",
       "dtype: int64"
      ]
     },
     "execution_count": 57,
     "metadata": {},
     "output_type": "execute_result"
    }
   ],
   "source": [
    "df.isna().sum()"
   ]
  },
  {
   "cell_type": "code",
   "execution_count": 40,
   "id": "5d0897e9",
   "metadata": {},
   "outputs": [
    {
     "data": {
      "text/plain": [
       "UID                 0.000000\n",
       "JOB_CATEGORY        0.000000\n",
       "JOB_DEP             0.000000\n",
       "eco_sect            0.000000\n",
       "Terms_of_emp        0.000000\n",
       "Employer_type       0.000000\n",
       "Emolument           0.000000\n",
       "JOB_CONDITION       0.000000\n",
       "employee_count      0.000000\n",
       "Work_description    0.000000\n",
       "Working_hours       0.003314\n",
       "dtype: float64"
      ]
     },
     "execution_count": 40,
     "metadata": {},
     "output_type": "execute_result"
    }
   ],
   "source": [
    "(df.isna().sum() / df.shape[0]).sort_values(ascending=True)"
   ]
  },
  {
   "cell_type": "code",
   "execution_count": 54,
   "id": "9c6c2f39",
   "metadata": {},
   "outputs": [
    {
     "name": "stdout",
     "output_type": "stream",
     "text": [
      "JOB_CATEGORY--------------------------------------\n",
      "O    0.964868\n",
      "X    0.020141\n",
      "A    0.014991\n",
      "Name: JOB_CATEGORY, dtype: float64\n",
      "JOB_DEP-------------------------------------------\n",
      "75    0.074342\n",
      "92    0.047471\n",
      "59    0.045584\n",
      "69    0.035692\n",
      "13    0.030492\n",
      "        ...   \n",
      "55    0.001581\n",
      "52    0.001377\n",
      "05    0.001224\n",
      "23    0.000969\n",
      "48    0.000510\n",
      "Name: JOB_DEP, Length: 96, dtype: float64\n",
      "eco_sect------------------------------------------\n",
      "GZ    0.144503\n",
      "QB    0.102182\n",
      "NZ    0.073781\n",
      "QA    0.071538\n",
      "HZ    0.069243\n",
      "FZ    0.062054\n",
      "PZ    0.056292\n",
      "MA    0.044004\n",
      "KZ    0.040638\n",
      "OZ    0.038803\n",
      "IZ    0.035285\n",
      "CA    0.025444\n",
      "SZ    0.022129\n",
      "JC    0.020141\n",
      "CH    0.020090\n",
      "CL    0.018050\n",
      "TZ    0.013410\n",
      "RZ    0.012900\n",
      "CM    0.012594\n",
      "CG    0.012135\n",
      "JA    0.011269\n",
      "MC    0.010504\n",
      "LZ    0.010096\n",
      "CK    0.008566\n",
      "DZ    0.007648\n",
      "CE    0.007444\n",
      "CC    0.007393\n",
      "MB    0.007342\n",
      "EZ    0.007087\n",
      "CI    0.006170\n",
      "CJ    0.005354\n",
      "CF    0.004538\n",
      "JB    0.004538\n",
      "CB    0.004487\n",
      "AZ    0.001071\n",
      "BZ    0.000816\n",
      "CD    0.000459\n",
      "Name: eco_sect, dtype: float64\n",
      "Terms_of_emp--------------------------------------\n",
      "CDI    0.861768\n",
      "AUT    0.059963\n",
      "CDD    0.037069\n",
      "TTP    0.016470\n",
      "APP    0.014685\n",
      "TOA    0.010045\n",
      "Name: Terms_of_emp, dtype: float64\n",
      "Employer_type-------------------------------------\n",
      "ct_9    0.659902\n",
      "ct_8    0.156843\n",
      "ct_6    0.063380\n",
      "ct_7    0.028197\n",
      "ct_2    0.026208\n",
      "ct_1    0.024934\n",
      "ct_3    0.022486\n",
      "ct_5    0.012492\n",
      "ct_4    0.005558\n",
      "Name: Employer_type, dtype: float64\n",
      "JOB_CONDITION-------------------------------------\n",
      "C    0.782633\n",
      "P    0.187487\n",
      "D    0.011167\n",
      "F    0.010147\n",
      "K    0.005048\n",
      "Y    0.003518\n",
      "Name: JOB_CONDITION, dtype: float64\n",
      "employee_count------------------------------------\n",
      "tr_1    0.226851\n",
      "tr_6    0.222364\n",
      "tr_3    0.162554\n",
      "tr_5    0.134204\n",
      "tr_4    0.126759\n",
      "tr_2    0.111207\n",
      "tr_0    0.016062\n",
      "Name: employee_count, dtype: float64\n",
      "Work_description----------------------------------\n",
      "526a    0.027483\n",
      "525d    0.025240\n",
      "542a    0.017234\n",
      "684a    0.017030\n",
      "534a    0.016011\n",
      "          ...   \n",
      "656c    0.000051\n",
      "623d    0.000051\n",
      "451b    0.000051\n",
      "389c    0.000051\n",
      "627e    0.000051\n",
      "Name: Work_description, Length: 403, dtype: float64\n"
     ]
    }
   ],
   "source": [
    "for col in df.select_dtypes('object'):\n",
    "    print(f'{col:-<50}\\n{df[col].value_counts(normalize=True)}')"
   ]
  },
  {
   "cell_type": "code",
   "execution_count": 64,
   "id": "c6c49023",
   "metadata": {},
   "outputs": [
    {
     "data": {
      "image/png": "[encoded data removed]",
      "text/plain": [
       "<Figure size 500x500 with 1 Axes>"
      ]
     },
     "metadata": {},
     "output_type": "display_data"
    }
   ],
   "source": [
    "for col in df.select_dtypes('float'):\n",
    "    plt.figure(figsize=(5,5))\n",
    "    sns.histplot(df[col], kde=True)\n",
    "    "
   ]
  },
  {
   "cell_type": "markdown",
   "id": "8857b5b5",
   "metadata": {},
   "source": [
    "## SPORT"
   ]
  },
  {
   "cell_type": "code",
   "execution_count": 83,
   "id": "9380fccc",
   "metadata": {},
   "outputs": [],
   "source": [
    "data = pd.read_csv('learn_dataset_sport.csv')"
   ]
  },
  {
   "cell_type": "code",
   "execution_count": 84,
   "id": "b7eae869",
   "metadata": {},
   "outputs": [],
   "source": [
    "df = data.copy()"
   ]
  },
  {
   "cell_type": "code",
   "execution_count": 85,
   "id": "0e7ce183",
   "metadata": {},
   "outputs": [
    {
     "data": {
      "text/plain": [
       "(7711, 2)"
      ]
     },
     "execution_count": 85,
     "metadata": {},
     "output_type": "execute_result"
    }
   ],
   "source": [
    "df.shape"
   ]
  },
  {
   "cell_type": "code",
   "execution_count": 86,
   "id": "12ca38b3",
   "metadata": {},
   "outputs": [
    {
     "data": {
      "text/plain": [
       "UID        int64\n",
       "Sports    object\n",
       "dtype: object"
      ]
     },
     "execution_count": 86,
     "metadata": {},
     "output_type": "execute_result"
    }
   ],
   "source": [
    "df.dtypes"
   ]
  },
  {
   "cell_type": "code",
   "execution_count": 87,
   "id": "02dfc724",
   "metadata": {},
   "outputs": [
    {
     "data": {
      "text/plain": [
       "UID       0.0\n",
       "Sports    0.0\n",
       "dtype: float64"
      ]
     },
     "execution_count": 87,
     "metadata": {},
     "output_type": "execute_result"
    }
   ],
   "source": [
    "(df.isna().sum() / df.shape[0]).sort_values(ascending=True)"
   ]
  },
  {
   "cell_type": "code",
   "execution_count": 88,
   "id": "978dc7bf",
   "metadata": {},
   "outputs": [
    {
     "data": {
      "text/html": [
       "<div>\n",
       "<style scoped>\n",
       "    .dataframe tbody tr th:only-of-type {\n",
       "        vertical-align: middle;\n",
       "    }\n",
       "\n",
       "    .dataframe tbody tr th {\n",
       "        vertical-align: top;\n",
       "    }\n",
       "\n",
       "    .dataframe thead th {\n",
       "        text-align: right;\n",
       "    }\n",
       "</style>\n",
       "<table border=\"1\" class=\"dataframe\">\n",
       "  <thead>\n",
       "    <tr style=\"text-align: right;\">\n",
       "      <th></th>\n",
       "      <th>UID</th>\n",
       "      <th>Sports</th>\n",
       "    </tr>\n",
       "  </thead>\n",
       "  <tbody>\n",
       "    <tr>\n",
       "      <th>0</th>\n",
       "      <td>54</td>\n",
       "      <td>club.117</td>\n",
       "    </tr>\n",
       "    <tr>\n",
       "      <th>1</th>\n",
       "      <td>66</td>\n",
       "      <td>club.245</td>\n",
       "    </tr>\n",
       "    <tr>\n",
       "      <th>2</th>\n",
       "      <td>102</td>\n",
       "      <td>club.219</td>\n",
       "    </tr>\n",
       "    <tr>\n",
       "      <th>3</th>\n",
       "      <td>103</td>\n",
       "      <td>club.111</td>\n",
       "    </tr>\n",
       "    <tr>\n",
       "      <th>4</th>\n",
       "      <td>111</td>\n",
       "      <td>club.403</td>\n",
       "    </tr>\n",
       "  </tbody>\n",
       "</table>\n",
       "</div>"
      ],
      "text/plain": [
       "   UID    Sports\n",
       "0   54  club.117\n",
       "1   66  club.245\n",
       "2  102  club.219\n",
       "3  103  club.111\n",
       "4  111  club.403"
      ]
     },
     "execution_count": 88,
     "metadata": {},
     "output_type": "execute_result"
    }
   ],
   "source": [
    "df.head()"
   ]
  },
  {
   "cell_type": "code",
   "execution_count": 91,
   "id": "0e3d5924",
   "metadata": {},
   "outputs": [
    {
     "data": {
      "text/plain": [
       "club.264    0.000130\n",
       "club.234    0.000130\n",
       "club.226    0.000130\n",
       "club.256    0.000259\n",
       "club.215    0.000259\n",
       "              ...   \n",
       "club.109    0.042407\n",
       "club.132    0.043055\n",
       "club.402    0.056672\n",
       "club.123    0.064194\n",
       "club.111    0.128518\n",
       "Name: Sports, Length: 91, dtype: float64"
      ]
     },
     "execution_count": 91,
     "metadata": {},
     "output_type": "execute_result"
    }
   ],
   "source": [
    "df[\"Sports\"].value_counts(normalize=True).sort_values(ascending=True)"
   ]
  },
  {
   "cell_type": "markdown",
   "id": "bde22869",
   "metadata": {},
   "source": [
    "## EMP-CONTRACT"
   ]
  },
  {
   "cell_type": "code",
   "execution_count": 92,
   "id": "2dbf0a6e",
   "metadata": {},
   "outputs": [],
   "source": [
    "data = pd.read_csv(\"learn_dataset_emp_contract.csv\")"
   ]
  },
  {
   "cell_type": "code",
   "execution_count": 93,
   "id": "e460d68c",
   "metadata": {},
   "outputs": [],
   "source": [
    "df = data.copy()"
   ]
  },
  {
   "cell_type": "code",
   "execution_count": 94,
   "id": "0ed9a2ee",
   "metadata": {},
   "outputs": [
    {
     "data": {
      "text/plain": [
       "(24360, 2)"
      ]
     },
     "execution_count": 94,
     "metadata": {},
     "output_type": "execute_result"
    }
   ],
   "source": [
    "df.shape"
   ]
  },
  {
   "cell_type": "code",
   "execution_count": 82,
   "id": "8f45d2fd",
   "metadata": {},
   "outputs": [
    {
     "data": {
      "text/plain": [
       "UID              int64\n",
       "emp_contract    object\n",
       "dtype: object"
      ]
     },
     "execution_count": 82,
     "metadata": {},
     "output_type": "execute_result"
    }
   ],
   "source": [
    "df.dtypes"
   ]
  },
  {
   "cell_type": "code",
   "execution_count": 95,
   "id": "d84efe37",
   "metadata": {},
   "outputs": [
    {
     "data": {
      "text/plain": [
       "contrat_2_3    0.001437\n",
       "contrat_1_4    0.003325\n",
       "contrat_1_3    0.007553\n",
       "contrat_1_2    0.017693\n",
       "contrat_1_1    0.018883\n",
       "contrat_2_2    0.047947\n",
       "contrat_2_1    0.071880\n",
       "contrat_1_5    0.085016\n",
       "contrat_1_6    0.746264\n",
       "Name: emp_contract, dtype: float64"
      ]
     },
     "execution_count": 95,
     "metadata": {},
     "output_type": "execute_result"
    }
   ],
   "source": [
    "df[\"emp_contract\"].value_counts(normalize=True).sort_values(ascending=True)"
   ]
  },
  {
   "cell_type": "code",
   "execution_count": null,
   "id": "5180df3b",
   "metadata": {},
   "outputs": [],
   "source": []
  }
 ],
 "metadata": {
  "kernelspec": {
   "display_name": "Python 3",
   "language": "python",
   "name": "python3"
  },
  "language_info": {
   "codemirror_mode": {
    "name": "ipython",
    "version": 3
   },
   "file_extension": ".py",
   "mimetype": "text/x-python",
   "name": "python",
   "nbconvert_exporter": "python",
   "pygments_lexer": "ipython3",
   "version": "3.9.13"
  }
 },
 "nbformat": 4,
 "nbformat_minor": 5
}
