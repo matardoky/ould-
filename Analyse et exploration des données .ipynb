{
 "cells": [
  {
   "cell_type": "markdown",
   "id": "90307753",
   "metadata": {},
   "source": [
    " ## 1. Analyse et exploration des données"
   ]
  },
  {
   "cell_type": "code",
   "execution_count": 4,
   "id": "122d9cad",
   "metadata": {},
   "outputs": [],
   "source": [
    "import numpy as np \n",
    "import pandas as pd \n",
    "import matplotlib.pyplot as plt \n",
    "import seaborn as sns "
   ]
  },
  {
   "cell_type": "code",
   "execution_count": 14,
   "id": "b98c2a8e",
   "metadata": {},
   "outputs": [],
   "source": [
    "data = pd.read_csv(\"learn_dataset.csv\")"
   ]
  },
  {
   "cell_type": "code",
   "execution_count": 15,
   "id": "00f78555",
   "metadata": {},
   "outputs": [],
   "source": [
    "df = data.copy()"
   ]
  },
  {
   "cell_type": "code",
   "execution_count": 16,
   "id": "e9e583c5",
   "metadata": {},
   "outputs": [
    {
     "data": {
      "text/html": [
       "<div>\n",
       "<style scoped>\n",
       "    .dataframe tbody tr th:only-of-type {\n",
       "        vertical-align: middle;\n",
       "    }\n",
       "\n",
       "    .dataframe tbody tr th {\n",
       "        vertical-align: top;\n",
       "    }\n",
       "\n",
       "    .dataframe thead th {\n",
       "        text-align: right;\n",
       "    }\n",
       "</style>\n",
       "<table border=\"1\" class=\"dataframe\">\n",
       "  <thead>\n",
       "    <tr style=\"text-align: right;\">\n",
       "      <th></th>\n",
       "      <th>UID</th>\n",
       "      <th>ACTIVITY_TYPE</th>\n",
       "      <th>AGE_2018</th>\n",
       "      <th>sex</th>\n",
       "      <th>OCCUPATION_42</th>\n",
       "      <th>Is_student</th>\n",
       "      <th>degree</th>\n",
       "      <th>household_type</th>\n",
       "      <th>Insee</th>\n",
       "      <th>target</th>\n",
       "    </tr>\n",
       "  </thead>\n",
       "  <tbody>\n",
       "    <tr>\n",
       "      <th>0</th>\n",
       "      <td>1</td>\n",
       "      <td>type1-1</td>\n",
       "      <td>44</td>\n",
       "      <td>Male</td>\n",
       "      <td>csp_4_5</td>\n",
       "      <td>False</td>\n",
       "      <td>DIP|1|3</td>\n",
       "      <td>ft4-1</td>\n",
       "      <td>01004</td>\n",
       "      <td>33.1791</td>\n",
       "    </tr>\n",
       "    <tr>\n",
       "      <th>1</th>\n",
       "      <td>3</td>\n",
       "      <td>type2-1</td>\n",
       "      <td>52</td>\n",
       "      <td>Male</td>\n",
       "      <td>csp_7_7</td>\n",
       "      <td>False</td>\n",
       "      <td>DIP|1|1</td>\n",
       "      <td>ft4-3</td>\n",
       "      <td>01004</td>\n",
       "      <td>42.3055</td>\n",
       "    </tr>\n",
       "    <tr>\n",
       "      <th>2</th>\n",
       "      <td>5</td>\n",
       "      <td>type2-1</td>\n",
       "      <td>80</td>\n",
       "      <td>Male</td>\n",
       "      <td>csp_7_4</td>\n",
       "      <td>False</td>\n",
       "      <td>DIP|1|7</td>\n",
       "      <td>ft4-4</td>\n",
       "      <td>01004</td>\n",
       "      <td>45.9223</td>\n",
       "    </tr>\n",
       "    <tr>\n",
       "      <th>3</th>\n",
       "      <td>7</td>\n",
       "      <td>type1-1</td>\n",
       "      <td>58</td>\n",
       "      <td>Male</td>\n",
       "      <td>csp_2_2</td>\n",
       "      <td>False</td>\n",
       "      <td>DIP|1|6</td>\n",
       "      <td>ft1-1</td>\n",
       "      <td>01004</td>\n",
       "      <td>39.3028</td>\n",
       "    </tr>\n",
       "    <tr>\n",
       "      <th>4</th>\n",
       "      <td>11</td>\n",
       "      <td>type1-1</td>\n",
       "      <td>42</td>\n",
       "      <td>Male</td>\n",
       "      <td>csp_6_7</td>\n",
       "      <td>False</td>\n",
       "      <td>DIP|1|3</td>\n",
       "      <td>ft1-1</td>\n",
       "      <td>01004</td>\n",
       "      <td>28.6227</td>\n",
       "    </tr>\n",
       "  </tbody>\n",
       "</table>\n",
       "</div>"
      ],
      "text/plain": [
       "   UID ACTIVITY_TYPE  AGE_2018   sex OCCUPATION_42  Is_student   degree  \\\n",
       "0    1       type1-1        44  Male       csp_4_5       False  DIP|1|3   \n",
       "1    3       type2-1        52  Male       csp_7_7       False  DIP|1|1   \n",
       "2    5       type2-1        80  Male       csp_7_4       False  DIP|1|7   \n",
       "3    7       type1-1        58  Male       csp_2_2       False  DIP|1|6   \n",
       "4   11       type1-1        42  Male       csp_6_7       False  DIP|1|3   \n",
       "\n",
       "  household_type  Insee   target  \n",
       "0          ft4-1  01004  33.1791  \n",
       "1          ft4-3  01004  42.3055  \n",
       "2          ft4-4  01004  45.9223  \n",
       "3          ft1-1  01004  39.3028  \n",
       "4          ft1-1  01004  28.6227  "
      ]
     },
     "execution_count": 16,
     "metadata": {},
     "output_type": "execute_result"
    }
   ],
   "source": [
    "df.head()"
   ]
  },
  {
   "cell_type": "code",
   "execution_count": 17,
   "id": "62cbf3bb",
   "metadata": {},
   "outputs": [
    {
     "data": {
      "text/plain": [
       "(50000, 10)"
      ]
     },
     "execution_count": 17,
     "metadata": {},
     "output_type": "execute_result"
    }
   ],
   "source": [
    "df.shape "
   ]
  },
  {
   "cell_type": "code",
   "execution_count": 19,
   "id": "518b7d52",
   "metadata": {},
   "outputs": [
    {
     "data": {
      "text/plain": [
       "object     6\n",
       "int64      2\n",
       "bool       1\n",
       "float64    1\n",
       "dtype: int64"
      ]
     },
     "execution_count": 19,
     "metadata": {},
     "output_type": "execute_result"
    }
   ],
   "source": [
    "df.dtypes.value_counts()"
   ]
  },
  {
   "cell_type": "code",
   "execution_count": 23,
   "id": "16108551",
   "metadata": {},
   "outputs": [
    {
     "data": {
      "text/plain": [
       "UID               0.0\n",
       "ACTIVITY_TYPE     0.0\n",
       "AGE_2018          0.0\n",
       "sex               0.0\n",
       "OCCUPATION_42     0.0\n",
       "Is_student        0.0\n",
       "degree            0.0\n",
       "household_type    0.0\n",
       "Insee             0.0\n",
       "target            0.0\n",
       "dtype: float64"
      ]
     },
     "execution_count": 23,
     "metadata": {},
     "output_type": "execute_result"
    }
   ],
   "source": [
    "(df.isna().sum()/df.shape[0]).sort_values(ascending=True)"
   ]
  },
  {
   "cell_type": "markdown",
   "id": "2f7fd7b6",
   "metadata": {},
   "source": [
    "## Histogramme des variables continues "
   ]
  },
  {
   "cell_type": "code",
   "execution_count": 28,
   "id": "a432f4da",
   "metadata": {},
   "outputs": [
    {
     "data": {
      "image/png": "[encoded data removed]",
      "text/plain": [
       "<Figure size 640x480 with 1 Axes>"
      ]
     },
     "metadata": {},
     "output_type": "display_data"
    }
   ],
   "source": [
    "for col in df.select_dtypes('float'):\n",
    "    plt.figure()\n",
    "    sns.histplot(df[col], kde=True)\n",
    "  "
   ]
  },
  {
   "cell_type": "markdown",
   "id": "f19581b1",
   "metadata": {},
   "source": [
    "## Variables qualitatives"
   ]
  },
  {
   "cell_type": "code",
   "execution_count": 31,
   "id": "71c3c28f",
   "metadata": {},
   "outputs": [
    {
     "data": {
      "text/plain": [
       "<AxesSubplot:xlabel='AGE_2018', ylabel='Count'>"
      ]
     },
     "execution_count": 31,
     "metadata": {},
     "output_type": "execute_result"
    },
    {
     "data": {
      "image/png": "[encoded data removed]",
      "text/plain": [
       "<Figure size 640x480 with 1 Axes>"
      ]
     },
     "metadata": {},
     "output_type": "display_data"
    }
   ],
   "source": [
    "plt.figure()\n",
    "sns.histplot(df['AGE_2018'], kde=True)"
   ]
  },
  {
   "cell_type": "code",
   "execution_count": 46,
   "id": "e857a326",
   "metadata": {},
   "outputs": [
    {
     "name": "stdout",
     "output_type": "stream",
     "text": [
      "ACTIVITY_TYPE------------------------------------- ['type1-1' 'type2-1' 'type2-4' 'type2-2' 'type2-5' 'type1-2']\n",
      "sex----------------------------------------------- ['Male' 'Female']\n",
      "OCCUPATION_42------------------------------------- ['csp_4_5' 'csp_7_7' 'csp_7_4' 'csp_2_2' 'csp_6_7' 'csp_1_1' 'csp_8_6'\n",
      " 'csp_8_4' 'csp_8_5' 'csp_7_5' 'csp_5_2' 'csp_7_8' 'csp_5_4' 'csp_6_3'\n",
      " 'csp_6_2' 'csp_8_1' 'csp_4_3' 'csp_3_8' 'csp_5_5' 'csp_7_1' 'csp_6_9'\n",
      " 'csp_4_6' 'csp_4_7' 'csp_4_8' 'csp_6_4' 'csp_3_7' 'csp_3_5' 'csp_5_3'\n",
      " 'csp_3_3' 'csp_7_2' 'csp_2_3' 'csp_2_1' 'csp_5_6' 'csp_6_8' 'csp_4_2'\n",
      " 'csp_3_4' 'csp_1_2' 'csp_1_3' 'csp_3_1' 'csp_6_5' 'csp_4_4']\n",
      "degree-------------------------------------------- ['DIP|1|3' 'DIP|1|1' 'DIP|1|7' 'DIP|1|6' 'DIP|1|5' 'DIP|1|4' 'DIP|2'\n",
      " 'DIP|3' 'DIP|1|2' 'DIP|1|8' 'DIP|1' 'DIP|1|9']\n",
      "household_type------------------------------------ ['ft4-1' 'ft4-3' 'ft4-4' 'ft1-1' 'ft4-2' 'ft3-2' 'ft1-2' 'ft2-0' 'ft3-1']\n",
      "Insee--------------------------------------------- ['01004' '01013' '01014' ... '95675' '95678' '95680']\n"
     ]
    }
   ],
   "source": [
    "for col in df.select_dtypes('object'):\n",
    "    print(f'{col:-<50} {df[col].unique()}')"
   ]
  },
  {
   "cell_type": "code",
   "execution_count": 41,
   "id": "cd531c95",
   "metadata": {},
   "outputs": [
    {
     "data": {
      "text/plain": [
       "Female    0.523\n",
       "Male      0.477\n",
       "Name: sex, dtype: float64"
      ]
     },
     "execution_count": 41,
     "metadata": {},
     "output_type": "execute_result"
    }
   ],
   "source": [
    "df['sex'].value_counts(normalize=True)"
   ]
  },
  {
   "cell_type": "code",
   "execution_count": 49,
   "id": "0f909dd1",
   "metadata": {},
   "outputs": [
    {
     "name": "stdout",
     "output_type": "stream",
     "text": [
      "type1-1    0.48720\n",
      "type2-1    0.26950\n",
      "type2-2    0.09530\n",
      "type1-2    0.07572\n",
      "type2-5    0.04308\n",
      "type2-4    0.02920\n",
      "Name: ACTIVITY_TYPE, dtype: float64\n",
      "Female    0.523\n",
      "Male      0.477\n",
      "Name: sex, dtype: float64\n",
      "csp_7_7    0.08726\n",
      "csp_8_4    0.08680\n",
      "csp_7_8    0.06578\n",
      "csp_8_5    0.06532\n",
      "csp_7_5    0.05358\n",
      "csp_4_6    0.04812\n",
      "csp_5_2    0.04760\n",
      "csp_5_6    0.03832\n",
      "csp_5_4    0.03388\n",
      "csp_6_3    0.02920\n",
      "csp_4_3    0.02872\n",
      "csp_5_5    0.02704\n",
      "csp_3_8    0.02566\n",
      "csp_3_7    0.02564\n",
      "csp_6_7    0.02500\n",
      "csp_4_7    0.02418\n",
      "csp_7_4    0.02400\n",
      "csp_7_2    0.02236\n",
      "csp_6_2    0.01966\n",
      "csp_8_6    0.01914\n",
      "csp_4_2    0.01852\n",
      "csp_2_1    0.01672\n",
      "csp_6_8    0.01650\n",
      "csp_3_4    0.01610\n",
      "csp_2_2    0.01460\n",
      "csp_6_4    0.01360\n",
      "csp_7_1    0.01284\n",
      "csp_5_3    0.01184\n",
      "csp_4_8    0.01106\n",
      "csp_3_1    0.01088\n",
      "csp_3_3    0.01030\n",
      "csp_4_5    0.00918\n",
      "csp_6_5    0.00886\n",
      "csp_8_1    0.00860\n",
      "csp_3_5    0.00668\n",
      "csp_1_1    0.00538\n",
      "csp_6_9    0.00524\n",
      "csp_2_3    0.00334\n",
      "csp_1_3    0.00168\n",
      "csp_4_4    0.00044\n",
      "csp_1_2    0.00038\n",
      "Name: OCCUPATION_42, dtype: float64\n",
      "DIP|1|3    0.22526\n",
      "DIP|1|4    0.10862\n",
      "DIP|1|6    0.10306\n",
      "DIP|1|8    0.08986\n",
      "DIP|1|7    0.08786\n",
      "DIP|1|2    0.08640\n",
      "DIP|1|5    0.07232\n",
      "DIP|1|1    0.07030\n",
      "DIP|3      0.07014\n",
      "DIP|2      0.05416\n",
      "DIP|1      0.02354\n",
      "DIP|1|9    0.00848\n",
      "Name: degree, dtype: float64\n",
      "ft4-1    0.33430\n",
      "ft4-4    0.19200\n",
      "ft1-2    0.11316\n",
      "ft4-2    0.09254\n",
      "ft1-1    0.08554\n",
      "ft3-2    0.08162\n",
      "ft4-3    0.05838\n",
      "ft2-0    0.02506\n",
      "ft3-1    0.01740\n",
      "Name: household_type, dtype: float64\n",
      "31555    0.00692\n",
      "06088    0.00606\n",
      "34172    0.00508\n",
      "44109    0.00430\n",
      "67482    0.00414\n",
      "          ...   \n",
      "47109    0.00002\n",
      "47104    0.00002\n",
      "47101    0.00002\n",
      "47094    0.00002\n",
      "50108    0.00002\n",
      "Name: Insee, Length: 13757, dtype: float64\n"
     ]
    }
   ],
   "source": [
    "for col in df.select_dtypes('object'):\n",
    "    print(df[col].value_counts(normalize=True))"
   ]
  },
  {
   "cell_type": "code",
   "execution_count": null,
   "id": "49968d95",
   "metadata": {},
   "outputs": [],
   "source": []
  }
 ],
 "metadata": {
  "kernelspec": {
   "display_name": "Python 3",
   "language": "python",
   "name": "python3"
  },
  "language_info": {
   "codemirror_mode": {
    "name": "ipython",
    "version": 3
   },
   "file_extension": ".py",
   "mimetype": "text/x-python",
   "name": "python",
   "nbconvert_exporter": "python",
   "pygments_lexer": "ipython3",
   "version": "3.9.13"
  }
 },
 "nbformat": 4,
 "nbformat_minor": 5
}
